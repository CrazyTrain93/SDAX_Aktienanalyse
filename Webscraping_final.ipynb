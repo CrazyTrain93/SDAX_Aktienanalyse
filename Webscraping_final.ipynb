{
 "cells": [
  {
   "cell_type": "code",
   "execution_count": 52,
   "id": "bba04a49-a31a-4625-a702-428f3a32fdb0",
   "metadata": {},
   "outputs": [],
   "source": [
    "import requests\n",
    "import re\n",
    "from bs4 import BeautifulSoup\n",
    "import pandas as pd\n",
    "import numpy as np"
   ]
  },
  {
   "cell_type": "code",
   "execution_count": 53,
   "id": "b35adb42-ec23-4285-86b1-82634818a2c2",
   "metadata": {},
   "outputs": [],
   "source": [
    "#for single link testing #link = \"https://finance.yahoo.com/quote/HLAG.DE/key-statistics?p=HLAG.DE\"\n",
    "\n",
    "link_list = ['https://finance.yahoo.com/quote/1U1.DE/key-statistics?p=1U1.DE', 'https://finance.yahoo.com/quote/ADN1.DE/key-statistics?p=ADN1.DE',\n",
    "             'https://finance.yahoo.com/quote/ADTN/key-statistics?p=ADTN', 'https://finance.yahoo.com/quote/ADV.DE/key-statistics?p=ADV.DE',\n",
    "             'https://finance.yahoo.com/quote/AAD.DE/key-statistics?p=AAD.DE', 'https://finance.yahoo.com/quote/AOF.DE/key-statistics?p=AOF.DE', \n",
    "             'https://finance.yahoo.com/quote/AG1.DE/key-statistics?p=AG1.DE', 'https://finance.yahoo.com/quote/BYW.DE/key-statistics?p=BYW.DE', \n",
    "             'https://finance.yahoo.com/quote/BFSA.DE/key-statistics?p=BFSA.DE', 'https://finance.yahoo.com/quote/GBF.DE/key-statistics?p=GBF.DE', \n",
    "             'https://finance.yahoo.com/quote/BVB.DE/key-statistics?p=BVB.DE', 'https://finance.yahoo.com/quote/COK.DE/key-statistics?p=COK.DE', \n",
    "             'https://finance.yahoo.com/quote/CEC.DE/key-statistics?p=CEC.DE', 'https://finance.yahoo.com/quote/CWC.DE/key-statistics?p=CWC.DE', \n",
    "             'https://finance.yahoo.com/quote/COP.DE/key-statistics?p=COP.DE', 'https://finance.yahoo.com/quote/DMP.DE/key-statistics?p=DMP.DE', \n",
    "             'https://finance.yahoo.com/quote/DBAN.DE/key-statistics?p=DBAN.DE', 'https://finance.yahoo.com/quote/DWNI.DE/key-statistics?p=DWNI.DE', \n",
    "             'https://finance.yahoo.com/quote/DEZ.DE/key-statistics?p=DEZ.DE', 'https://finance.yahoo.com/quote/DRW3.DE/key-statistics?p=DRW3.DE',\n",
    "             'https://finance.yahoo.com/quote/DUE.DE/key-statistics?p=DUE.DE', 'https://finance.yahoo.com/quote/DWS.DE/key-statistics?p=DWS.DE', \n",
    "             'https://finance.yahoo.com/quote/EUZ.DE/key-statistics?p=EUZ.DE']"
   ]
  },
  {
   "cell_type": "code",
   "execution_count": 54,
   "id": "5591c245-f990-4ccf-a441-47ad95a2f82a",
   "metadata": {},
   "outputs": [],
   "source": [
    "headers_http = {\"User-Agent\" : \"Mozilla/5.0 (Windows NT 10.0; Win64; x64; rv:99.0) Gecko/20100101 Firefox/99.0\"}"
   ]
  },
  {
   "cell_type": "code",
   "execution_count": 55,
   "id": "26d6a966-45f4-406c-a394-faff32001c28",
   "metadata": {},
   "outputs": [
    {
     "data": {
      "text/plain": [
       "'\\nThis code was used, to extract the Table Headers, which i fill in here hardcoded, because its the same financial Names in every Stock\\nfinance_names = []\\n\\n#noticed only 50 of 60 headlines were found - 10 have other class name (for no reason) catched them with RegEX -- (\"td\", class_=\"Pos(st) Start(0) Bgc($lv2BgColor) fi-row:h_Bgc($hoverBgColor) Pend(10px)\")\\nclass_pattern = re.compile(r\"(^|\\\\s)Pos\\\\(st\\\\) Start\\\\(0\\\\) Bgc\\\\(\\\\$lv2BgColor\\\\) fi-row:h_Bgc\\\\(\\\\$hoverBgColor\\\\) Pend\\\\(10px\\\\)(\\\\s|$)\")\\n\\ncolumn_names = soup.find_all(\"td\", class_=class_pattern)\\nfor element in column_names:\\n    finance_names.append(element.text)\\nfor idx, element in enumerate(finance_names):\\n    finance_names[idx] =  element.replace(\" \",\"_\")\\nprint(finance_names) '"
      ]
     },
     "execution_count": 55,
     "metadata": {},
     "output_type": "execute_result"
    }
   ],
   "source": [
    "\"\"\"\n",
    "This code was used, to extract the Table Headers, which i fill in here hardcoded, because its the same financial Names in every Stock\n",
    "finance_names = []\n",
    "\n",
    "#noticed only 50 of 60 headlines were found - 10 have other class name (for no reason) catched them with RegEX -- (\"td\", class_=\"Pos(st) Start(0) Bgc($lv2BgColor) fi-row:h_Bgc($hoverBgColor) Pend(10px)\")\n",
    "class_pattern = re.compile(r\"(^|\\s)Pos\\(st\\) Start\\(0\\) Bgc\\(\\$lv2BgColor\\) fi-row:h_Bgc\\(\\$hoverBgColor\\) Pend\\(10px\\)(\\s|$)\")\n",
    "\n",
    "column_names = soup.find_all(\"td\", class_=class_pattern)\n",
    "for element in column_names:\n",
    "    finance_names.append(element.text)\n",
    "for idx, element in enumerate(finance_names):\n",
    "    finance_names[idx] =  element.replace(\" \",\"_\")\n",
    "print(finance_names) \"\"\"\n"
   ]
  },
  {
   "cell_type": "code",
   "execution_count": 56,
   "id": "d571c7f4-fb0a-4d73-9749-d0221f708857",
   "metadata": {},
   "outputs": [],
   "source": [
    "headers_column = ['Market_Cap_(intraday)_', 'Enterprise_Value_', 'Trailing_P/E_', 'Forward_P/E_', 'PEG_Ratio_(5_yr_expected)_', 'Price/Sales_(ttm)', \n",
    "                  'Price/Book_(mrq)', 'Enterprise_Value/Revenue_', 'Enterprise_Value/EBITDA_', 'Beta_(5Y_Monthly)_', '52-Week_Change_3', \n",
    "                  'S&P500_52-Week_Change_3', '52_Week_High_3', '52_Week_Low_3', '50-Day_Moving_Average_3', '200-Day_Moving_Average_3', 'Avg_Vol_(3_month)_3', \n",
    "                  'Avg_Vol_(10_day)_3', 'Shares_Outstanding_5', 'Implied_Shares_Outstanding_6', 'Float_8', '%_Held_by_Insiders_1', '%_Held_by_Institutions_1', \n",
    "                  'Shares_Short__4', 'Short_Ratio__4', 'Short_%_of_Float__4', 'Short_%_of_Shares_Outstanding__4', 'Shares_Short_(prior_month_)_4', \n",
    "                  'Forward_Annual_Dividend_Rate_4', 'Forward_Annual_Dividend_Yield_4', 'Trailing_Annual_Dividend_Rate_3', 'Trailing_Annual_Dividend_Yield_3', \n",
    "                  '5_Year_Average_Dividend_Yield_4', 'Payout_Ratio_4', 'Dividend_Date_3', 'Ex-Dividend_Date_4', 'Last_Split_Factor_2', 'Last_Split_Date_3', \n",
    "                  'Fiscal_Year_Ends_', 'Most_Recent_Quarter_(mrq)', 'Profit_Margin_', 'Operating_Margin_(ttm)', 'Return_on_Assets_(ttm)', 'Return_on_Equity_(ttm)', \n",
    "                  'Revenue_(ttm)', 'Revenue_Per_Share_(ttm)', 'Quarterly_Revenue_Growth_(yoy)', 'Gross_Profit_(ttm)', 'EBITDA_', 'Net_Income_Avi_to_Common_(ttm)', \n",
    "                  'Diluted_EPS_(ttm)', 'Quarterly_Earnings_Growth_(yoy)', 'Total_Cash_(mrq)', 'Total_Cash_Per_Share_(mrq)', 'Total_Debt_(mrq)', 'Total_Debt/Equity_(mrq)', \n",
    "                  'Current_Ratio_(mrq)', 'Book_Value_Per_Share_(mrq)', 'Operating_Cash_Flow_(ttm)', 'Levered_Free_Cash_Flow_(ttm)']\n",
    "\n",
    "data_list = []\n",
    "finance_numbers = []\n",
    "name_list = []\n"
   ]
  },
  {
   "cell_type": "code",
   "execution_count": 57,
   "id": "d3d61f36-2538-468a-8798-ab1a51e3d041",
   "metadata": {},
   "outputs": [
    {
     "name": "stdout",
     "output_type": "stream",
     "text": [
      "Script Run Successfully!\n"
     ]
    }
   ],
   "source": [
    "for link in link_list:\n",
    "    r = requests.get(link, headers=headers_http)\n",
    "    if r.status_code == 200:\n",
    "        soup = BeautifulSoup(r.content, \"html.parser\")\n",
    "        \n",
    "        finanz_zahlen = soup.find_all(\"td\", class_=\"Fw(500) Ta(end) Pstart(10px) Miw(60px)\", string=True)\n",
    "        firmenname = soup.find_all(\"h1\", class_=\"D(ib) Fz(18px)\", string=True)\n",
    "        finance_numbers = []  # Initialize finance_numbers within the loop\n",
    "        \n",
    "        for element in finanz_zahlen:\n",
    "            finance_numbers.append(element.text)\n",
    "\n",
    "        for idx, element in enumerate(finance_numbers):\n",
    "            if element.endswith(\"M\"):\n",
    "                finance_numbers[idx] = float(element[:-1]) * 1e6\n",
    "            elif element.endswith(\"B\"):\n",
    "                finance_numbers[idx] = float(element[:-1]) * 1e9\n",
    "            elif element.endswith(\"k\"):\n",
    "                finance_numbers[idx] = float(element[:-1]) * 1e3\n",
    "            elif element.endswith(\"%\"):\n",
    "                finance_numbers[idx] = element\n",
    "\n",
    "        data_list.extend(finance_numbers)  # Append finance_numbers to data_list after processing\n",
    "        name_list.extend(firmenname)  # Append Company name to names list after processing\n",
    "\n",
    "    else:\n",
    "        print(\"Seems like there was an Error\")\n",
    "\n",
    "# Converting Finance Numbers into a Dataframe and Reshape them into 60 columns (this sorts them as well)\n",
    "data_array = np.array(data_list)\n",
    "data_array = data_array.reshape(len(link_list), 60)\n",
    "df_finance = pd.DataFrame(data_array, columns=headers_column)  \n",
    "\n",
    "# do the same for the Company name\n",
    "name_array = np.array(name_list)\n",
    "name_array = name_array.reshape(len(link_list), 1)\n",
    "df_names = pd.DataFrame(name_array, columns=[\"Company Name\"])\n",
    "\n",
    "# create final DF to write into Google Sheets later\n",
    "df_final = pd.concat([df_names, df_finance], axis=1)\n",
    "\n",
    "# just a quick test if whole list was successfully crawled\n",
    "print(\"Script Run Successfully!\")"
   ]
  },
  {
   "cell_type": "code",
   "execution_count": 58,
   "id": "512ded47",
   "metadata": {},
   "outputs": [
    {
     "data": {
      "text/plain": [
       "(23, 61)"
      ]
     },
     "execution_count": 58,
     "metadata": {},
     "output_type": "execute_result"
    }
   ],
   "source": [
    "df_final.shape"
   ]
  },
  {
   "cell_type": "code",
   "execution_count": null,
   "id": "8efe8669",
   "metadata": {},
   "outputs": [],
   "source": []
  }
 ],
 "metadata": {
  "kernelspec": {
   "display_name": "Python 3",
   "language": "python",
   "name": "python3"
  },
  "language_info": {
   "codemirror_mode": {
    "name": "ipython",
    "version": 3
   },
   "file_extension": ".py",
   "mimetype": "text/x-python",
   "name": "python",
   "nbconvert_exporter": "python",
   "pygments_lexer": "ipython3",
   "version": "3.9.1"
  }
 },
 "nbformat": 4,
 "nbformat_minor": 5
}
