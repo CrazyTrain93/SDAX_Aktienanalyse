{
 "cells": [
  {
   "cell_type": "code",
   "execution_count": 209,
   "id": "3bf56fb0-2405-421c-81f0-5be8f1a5ab25",
   "metadata": {},
   "outputs": [],
   "source": [
    "import requests\n",
    "import re\n",
    "from bs4 import BeautifulSoup\n",
    "import pandas as pd\n",
    "import numpy as np"
   ]
  },
  {
   "cell_type": "code",
   "execution_count": 210,
   "id": "16f9c5f3-f18d-4296-9ae7-8515126463d4",
   "metadata": {},
   "outputs": [],
   "source": [
    "#for single link testing #link = \"https://finance.yahoo.com/quote/HLAG.DE/key-statistics?p=HLAG.DE\"\n",
    "\n",
    "link_list = [\"https://finance.yahoo.com/quote/HLAG.DE/key-statistics?p=HLAG.DE\", \"https://finance.yahoo.com/quote/AAD.DE/key-statistics?p=AAD.DE\", \"https://finance.yahoo.com/quote/AOF.F/key-statistics?p=AOF.F\" ]\n",
    "headers_http = {\"User-Agent\" : \"Mozilla/5.0 (Windows NT 10.0; Win64; x64; rv:99.0) Gecko/20100101 Firefox/99.0\"}"
   ]
  },
  {
   "cell_type": "code",
   "execution_count": 211,
   "id": "f959e372-dbb4-4294-800a-7035b2678fdd",
   "metadata": {},
   "outputs": [
    {
     "data": {
      "text/plain": [
       "'\\nThis code was used, to extract the Table Headers, which i fill in here hardcoded, because its the same financial Names in every Stock\\nfinance_names = []\\n\\n#noticed only 50 of 60 headlines were found - 10 have other class name (for no reason) catched them with RegEX -- (\"td\", class_=\"Pos(st) Start(0) Bgc($lv2BgColor) fi-row:h_Bgc($hoverBgColor) Pend(10px)\")\\nclass_pattern = re.compile(r\"(^|\\\\s)Pos\\\\(st\\\\) Start\\\\(0\\\\) Bgc\\\\(\\\\$lv2BgColor\\\\) fi-row:h_Bgc\\\\(\\\\$hoverBgColor\\\\) Pend\\\\(10px\\\\)(\\\\s|$)\")\\n\\ncolumn_names = soup.find_all(\"td\", class_=class_pattern)\\nfor element in column_names:\\n    finance_names.append(element.text)\\nfor idx, element in enumerate(finance_names):\\n    finance_names[idx] =  element.replace(\" \",\"_\")\\nprint(finance_names) '"
      ]
     },
     "execution_count": 211,
     "metadata": {},
     "output_type": "execute_result"
    }
   ],
   "source": [
    "\"\"\"\n",
    "This code was used, to extract the Table Headers, which i fill in here hardcoded, because its the same financial Names in every Stock\n",
    "finance_names = []\n",
    "\n",
    "#noticed only 50 of 60 headlines were found - 10 have other class name (for no reason) catched them with RegEX -- (\"td\", class_=\"Pos(st) Start(0) Bgc($lv2BgColor) fi-row:h_Bgc($hoverBgColor) Pend(10px)\")\n",
    "class_pattern = re.compile(r\"(^|\\s)Pos\\(st\\) Start\\(0\\) Bgc\\(\\$lv2BgColor\\) fi-row:h_Bgc\\(\\$hoverBgColor\\) Pend\\(10px\\)(\\s|$)\")\n",
    "\n",
    "column_names = soup.find_all(\"td\", class_=class_pattern)\n",
    "for element in column_names:\n",
    "    finance_names.append(element.text)\n",
    "for idx, element in enumerate(finance_names):\n",
    "    finance_names[idx] =  element.replace(\" \",\"_\")\n",
    "print(finance_names) \"\"\"\n",
    "\n",
    "\n",
    "\n"
   ]
  },
  {
   "cell_type": "code",
   "execution_count": 212,
   "id": "3f76e190-a0ed-4fd2-86db-0934cf788512",
   "metadata": {},
   "outputs": [],
   "source": [
    "headers_column = ['Market_Cap_(intraday)_', 'Enterprise_Value_', 'Trailing_P/E_', 'Forward_P/E_', 'PEG_Ratio_(5_yr_expected)_', 'Price/Sales_(ttm)', \n",
    "                  'Price/Book_(mrq)', 'Enterprise_Value/Revenue_', 'Enterprise_Value/EBITDA_', 'Beta_(5Y_Monthly)_', '52-Week_Change_3', \n",
    "                  'S&P500_52-Week_Change_3', '52_Week_High_3', '52_Week_Low_3', '50-Day_Moving_Average_3', '200-Day_Moving_Average_3', 'Avg_Vol_(3_month)_3', \n",
    "                  'Avg_Vol_(10_day)_3', 'Shares_Outstanding_5', 'Implied_Shares_Outstanding_6', 'Float_8', '%_Held_by_Insiders_1', '%_Held_by_Institutions_1', \n",
    "                  'Shares_Short__4', 'Short_Ratio__4', 'Short_%_of_Float__4', 'Short_%_of_Shares_Outstanding__4', 'Shares_Short_(prior_month_)_4', \n",
    "                  'Forward_Annual_Dividend_Rate_4', 'Forward_Annual_Dividend_Yield_4', 'Trailing_Annual_Dividend_Rate_3', 'Trailing_Annual_Dividend_Yield_3', \n",
    "                  '5_Year_Average_Dividend_Yield_4', 'Payout_Ratio_4', 'Dividend_Date_3', 'Ex-Dividend_Date_4', 'Last_Split_Factor_2', 'Last_Split_Date_3', \n",
    "                  'Fiscal_Year_Ends_', 'Most_Recent_Quarter_(mrq)', 'Profit_Margin_', 'Operating_Margin_(ttm)', 'Return_on_Assets_(ttm)', 'Return_on_Equity_(ttm)', \n",
    "                  'Revenue_(ttm)', 'Revenue_Per_Share_(ttm)', 'Quarterly_Revenue_Growth_(yoy)', 'Gross_Profit_(ttm)', 'EBITDA_', 'Net_Income_Avi_to_Common_(ttm)', \n",
    "                  'Diluted_EPS_(ttm)', 'Quarterly_Earnings_Growth_(yoy)', 'Total_Cash_(mrq)', 'Total_Cash_Per_Share_(mrq)', 'Total_Debt_(mrq)', 'Total_Debt/Equity_(mrq)', \n",
    "                  'Current_Ratio_(mrq)', 'Book_Value_Per_Share_(mrq)', 'Operating_Cash_Flow_(ttm)', 'Levered_Free_Cash_Flow_(ttm)']\n"
   ]
  },
  {
   "cell_type": "code",
   "execution_count": 213,
   "id": "1e45140f-24e0-4801-803c-e6403e70adc1",
   "metadata": {},
   "outputs": [],
   "source": [
    "data_list = []\n"
   ]
  },
  {
   "cell_type": "code",
   "execution_count": 214,
   "id": "59c00f3b-15e1-46f2-b711-9e77fc11f23b",
   "metadata": {},
   "outputs": [],
   "source": [
    "for link in link_list:\n",
    "    r = requests.get(link, headers=headers_http)\n",
    "    if r.status_code == 200:\n",
    "        soup = BeautifulSoup(r.content, \"html.parser\")\n",
    "        finance_numbers = []\n",
    "        finanz_zahlen = soup.find_all(\"td\", class_=\"Fw(500) Ta(end) Pstart(10px) Miw(60px)\", string = True)\n",
    "        for element in finanz_zahlen:\n",
    "            finance_numbers.append(element.text)\n",
    "\n",
    "\n",
    "\n",
    "        for idx, element in enumerate(finance_numbers):\n",
    "            if element.endswith(\"M\"):\n",
    "                finance_numbers[idx] = float(element[:-1]) * 1e6\n",
    "            elif element.endswith(\"B\"):\n",
    "                finance_numbers[idx] = float(element[:-1]) * 1e9\n",
    "            elif element.endswith(\"k\"):\n",
    "                finance_numbers[idx] = float(element[:-1]) * 1e3\n",
    "            elif element.endswith(\"%\"):\n",
    "                finance_numbers[idx] = element\n",
    "            elif type(element) == str:\n",
    "                 finance_numbers[idx] = element\n",
    "            else:\n",
    "                finance_numbers[idx] = float(element)\n",
    "        data_list +=finance_numbers\n",
    "                \n",
    "    else: print(\"Seems like there was an Error\")\n",
    "\n",
    "data_array = np.array(data_list).reshape(3,60)\n",
    "df = pd.DataFrame(data_array, columns=headers_column)\n"
   ]
  },
  {
   "cell_type": "code",
   "execution_count": 215,
   "id": "cff73beb-2fe4-43fd-9600-ab5c138dc0e0",
   "metadata": {},
   "outputs": [
    {
     "data": {
      "text/html": [
       "<div>\n",
       "<style scoped>\n",
       "    .dataframe tbody tr th:only-of-type {\n",
       "        vertical-align: middle;\n",
       "    }\n",
       "\n",
       "    .dataframe tbody tr th {\n",
       "        vertical-align: top;\n",
       "    }\n",
       "\n",
       "    .dataframe thead th {\n",
       "        text-align: right;\n",
       "    }\n",
       "</style>\n",
       "<table border=\"1\" class=\"dataframe\">\n",
       "  <thead>\n",
       "    <tr style=\"text-align: right;\">\n",
       "      <th></th>\n",
       "      <th>Market_Cap_(intraday)_</th>\n",
       "      <th>Enterprise_Value_</th>\n",
       "      <th>Trailing_P/E_</th>\n",
       "      <th>Forward_P/E_</th>\n",
       "      <th>PEG_Ratio_(5_yr_expected)_</th>\n",
       "      <th>Price/Sales_(ttm)</th>\n",
       "      <th>Price/Book_(mrq)</th>\n",
       "      <th>Enterprise_Value/Revenue_</th>\n",
       "      <th>Enterprise_Value/EBITDA_</th>\n",
       "      <th>Beta_(5Y_Monthly)_</th>\n",
       "      <th>...</th>\n",
       "      <th>Diluted_EPS_(ttm)</th>\n",
       "      <th>Quarterly_Earnings_Growth_(yoy)</th>\n",
       "      <th>Total_Cash_(mrq)</th>\n",
       "      <th>Total_Cash_Per_Share_(mrq)</th>\n",
       "      <th>Total_Debt_(mrq)</th>\n",
       "      <th>Total_Debt/Equity_(mrq)</th>\n",
       "      <th>Current_Ratio_(mrq)</th>\n",
       "      <th>Book_Value_Per_Share_(mrq)</th>\n",
       "      <th>Operating_Cash_Flow_(ttm)</th>\n",
       "      <th>Levered_Free_Cash_Flow_(ttm)</th>\n",
       "    </tr>\n",
       "  </thead>\n",
       "  <tbody>\n",
       "    <tr>\n",
       "      <th>0</th>\n",
       "      <td>24960000000.0</td>\n",
       "      <td>21910000000.0</td>\n",
       "      <td>3.88</td>\n",
       "      <td>N/A</td>\n",
       "      <td>N/A</td>\n",
       "      <td>1.13</td>\n",
       "      <td>1.26</td>\n",
       "      <td>1.00</td>\n",
       "      <td>2.51</td>\n",
       "      <td>1.35</td>\n",
       "      <td>...</td>\n",
       "      <td>36.51</td>\n",
       "      <td>-95.00%</td>\n",
       "      <td>6360000000.0</td>\n",
       "      <td>36.17</td>\n",
       "      <td>5460000000.0</td>\n",
       "      <td>27.57%</td>\n",
       "      <td>1.82</td>\n",
       "      <td>112.41</td>\n",
       "      <td>9190000000.0</td>\n",
       "      <td>3970000000.0</td>\n",
       "    </tr>\n",
       "    <tr>\n",
       "      <th>1</th>\n",
       "      <td>598620000.0</td>\n",
       "      <td>647520000.0</td>\n",
       "      <td>14.87</td>\n",
       "      <td>N/A</td>\n",
       "      <td>N/A</td>\n",
       "      <td>1.46</td>\n",
       "      <td>4.25</td>\n",
       "      <td>1.50</td>\n",
       "      <td>6.55</td>\n",
       "      <td>1.68</td>\n",
       "      <td>...</td>\n",
       "      <td>7.41</td>\n",
       "      <td>6.20%</td>\n",
       "      <td>19570000.0</td>\n",
       "      <td>3.42</td>\n",
       "      <td>108330000.0</td>\n",
       "      <td>75.62%</td>\n",
       "      <td>0.61</td>\n",
       "      <td>24.63</td>\n",
       "      <td>90850000.0</td>\n",
       "      <td>77550000.0</td>\n",
       "    </tr>\n",
       "    <tr>\n",
       "      <th>2</th>\n",
       "      <td>1930000000.0</td>\n",
       "      <td>1890000000.0</td>\n",
       "      <td>71.37</td>\n",
       "      <td>N/A</td>\n",
       "      <td>N/A</td>\n",
       "      <td>14.62</td>\n",
       "      <td>46.97</td>\n",
       "      <td>14.11</td>\n",
       "      <td>41.51</td>\n",
       "      <td>1.23</td>\n",
       "      <td>...</td>\n",
       "      <td>3.44</td>\n",
       "      <td>57.60%</td>\n",
       "      <td>56090000.0</td>\n",
       "      <td>7.05</td>\n",
       "      <td>8660000.0</td>\n",
       "      <td>20.89%</td>\n",
       "      <td>N/A</td>\n",
       "      <td>5.23</td>\n",
       "      <td>N/A</td>\n",
       "      <td>N/A</td>\n",
       "    </tr>\n",
       "  </tbody>\n",
       "</table>\n",
       "<p>3 rows × 60 columns</p>\n",
       "</div>"
      ],
      "text/plain": [
       "  Market_Cap_(intraday)_ Enterprise_Value_ Trailing_P/E_ Forward_P/E_  \\\n",
       "0          24960000000.0     21910000000.0          3.88          N/A   \n",
       "1            598620000.0       647520000.0         14.87          N/A   \n",
       "2           1930000000.0      1890000000.0         71.37          N/A   \n",
       "\n",
       "  PEG_Ratio_(5_yr_expected)_ Price/Sales_(ttm) Price/Book_(mrq)  \\\n",
       "0                        N/A              1.13             1.26   \n",
       "1                        N/A              1.46             4.25   \n",
       "2                        N/A             14.62            46.97   \n",
       "\n",
       "  Enterprise_Value/Revenue_ Enterprise_Value/EBITDA_ Beta_(5Y_Monthly)_  ...  \\\n",
       "0                      1.00                     2.51               1.35  ...   \n",
       "1                      1.50                     6.55               1.68  ...   \n",
       "2                     14.11                    41.51               1.23  ...   \n",
       "\n",
       "  Diluted_EPS_(ttm) Quarterly_Earnings_Growth_(yoy) Total_Cash_(mrq)  \\\n",
       "0             36.51                         -95.00%     6360000000.0   \n",
       "1              7.41                           6.20%       19570000.0   \n",
       "2              3.44                          57.60%       56090000.0   \n",
       "\n",
       "  Total_Cash_Per_Share_(mrq) Total_Debt_(mrq) Total_Debt/Equity_(mrq)  \\\n",
       "0                      36.17     5460000000.0                  27.57%   \n",
       "1                       3.42      108330000.0                  75.62%   \n",
       "2                       7.05        8660000.0                  20.89%   \n",
       "\n",
       "  Current_Ratio_(mrq) Book_Value_Per_Share_(mrq) Operating_Cash_Flow_(ttm)  \\\n",
       "0                1.82                     112.41              9190000000.0   \n",
       "1                0.61                      24.63                90850000.0   \n",
       "2                 N/A                       5.23                       N/A   \n",
       "\n",
       "  Levered_Free_Cash_Flow_(ttm)  \n",
       "0                 3970000000.0  \n",
       "1                   77550000.0  \n",
       "2                          N/A  \n",
       "\n",
       "[3 rows x 60 columns]"
      ]
     },
     "execution_count": 215,
     "metadata": {},
     "output_type": "execute_result"
    }
   ],
   "source": [
    "df"
   ]
  },
  {
   "cell_type": "code",
   "execution_count": 198,
   "id": "698646c0-8bf1-4793-8d2e-ba9e1e9f15c5",
   "metadata": {},
   "outputs": [
    {
     "ename": "AttributeError",
     "evalue": "'numpy.ndarray' object has no attribute 'index'",
     "output_type": "error",
     "traceback": [
      "\u001b[1;31m---------------------------------------------------------------------------\u001b[0m",
      "\u001b[1;31mAttributeError\u001b[0m                            Traceback (most recent call last)",
      "\u001b[1;32m<ipython-input-198-6a8cf94726a6>\u001b[0m in \u001b[0;36m<module>\u001b[1;34m\u001b[0m\n\u001b[1;32m----> 1\u001b[1;33m \u001b[0mdata_array\u001b[0m\u001b[1;33m.\u001b[0m\u001b[0mindex\u001b[0m\u001b[1;33m\u001b[0m\u001b[1;33m\u001b[0m\u001b[0m\n\u001b[0m",
      "\u001b[1;31mAttributeError\u001b[0m: 'numpy.ndarray' object has no attribute 'index'"
     ]
    }
   ],
   "source": [
    "data_array"
   ]
  },
  {
   "cell_type": "code",
   "execution_count": 192,
   "id": "90e9b19d-2175-4bf0-b249-3a13f248715c",
   "metadata": {},
   "outputs": [
    {
     "data": {
      "text/plain": [
       "Index(['Market_Cap_(intraday)_', 'Enterprise_Value_', 'Trailing_P/E_',\n",
       "       'Forward_P/E_', 'PEG_Ratio_(5_yr_expected)_', 'Price/Sales_(ttm)',\n",
       "       'Price/Book_(mrq)', 'Enterprise_Value/Revenue_',\n",
       "       'Enterprise_Value/EBITDA_', 'Beta_(5Y_Monthly)_', '52-Week_Change_3',\n",
       "       'S&P500_52-Week_Change_3', '52_Week_High_3', '52_Week_Low_3',\n",
       "       '50-Day_Moving_Average_3', '200-Day_Moving_Average_3',\n",
       "       'Avg_Vol_(3_month)_3', 'Avg_Vol_(10_day)_3', 'Shares_Outstanding_5',\n",
       "       'Implied_Shares_Outstanding_6', 'Float_8', '%_Held_by_Insiders_1',\n",
       "       '%_Held_by_Institutions_1', 'Shares_Short__4', 'Short_Ratio__4',\n",
       "       'Short_%_of_Float__4', 'Short_%_of_Shares_Outstanding__4',\n",
       "       'Shares_Short_(prior_month_)_4', 'Forward_Annual_Dividend_Rate_4',\n",
       "       'Forward_Annual_Dividend_Yield_4', 'Trailing_Annual_Dividend_Rate_3',\n",
       "       'Trailing_Annual_Dividend_Yield_3', '5_Year_Average_Dividend_Yield_4',\n",
       "       'Payout_Ratio_4', 'Dividend_Date_3', 'Ex-Dividend_Date_4',\n",
       "       'Last_Split_Factor_2', 'Last_Split_Date_3', 'Fiscal_Year_Ends_',\n",
       "       'Most_Recent_Quarter_(mrq)', 'Profit_Margin_', 'Operating_Margin_(ttm)',\n",
       "       'Return_on_Assets_(ttm)', 'Return_on_Equity_(ttm)', 'Revenue_(ttm)',\n",
       "       'Revenue_Per_Share_(ttm)', 'Quarterly_Revenue_Growth_(yoy)',\n",
       "       'Gross_Profit_(ttm)', 'EBITDA_', 'Net_Income_Avi_to_Common_(ttm)',\n",
       "       'Diluted_EPS_(ttm)', 'Quarterly_Earnings_Growth_(yoy)',\n",
       "       'Total_Cash_(mrq)', 'Total_Cash_Per_Share_(mrq)', 'Total_Debt_(mrq)',\n",
       "       'Total_Debt/Equity_(mrq)', 'Current_Ratio_(mrq)',\n",
       "       'Book_Value_Per_Share_(mrq)', 'Operating_Cash_Flow_(ttm)',\n",
       "       'Levered_Free_Cash_Flow_(ttm)'],\n",
       "      dtype='object')"
      ]
     },
     "execution_count": 192,
     "metadata": {},
     "output_type": "execute_result"
    }
   ],
   "source": [
    "pd.DataFrame(data_array, columns=df.columns).columns"
   ]
  },
  {
   "cell_type": "code",
   "execution_count": 183,
   "id": "0489ffb4-3263-473d-a757-0e11280ab245",
   "metadata": {},
   "outputs": [],
   "source": [
    "data_array = np.array(data_list).reshape(3,60)"
   ]
  },
  {
   "cell_type": "code",
   "execution_count": 186,
   "id": "555d545e-5228-47b3-9e94-720e5c288891",
   "metadata": {},
   "outputs": [
    {
     "ename": "AttributeError",
     "evalue": "'DataFrame' object has no attribute 'append'",
     "output_type": "error",
     "traceback": [
      "\u001b[1;31m---------------------------------------------------------------------------\u001b[0m",
      "\u001b[1;31mAttributeError\u001b[0m                            Traceback (most recent call last)",
      "\u001b[1;32m<ipython-input-186-36bdc532c5e7>\u001b[0m in \u001b[0;36m<module>\u001b[1;34m\u001b[0m\n\u001b[1;32m----> 1\u001b[1;33m \u001b[0mdf\u001b[0m \u001b[1;33m=\u001b[0m \u001b[0mdf\u001b[0m\u001b[1;33m.\u001b[0m\u001b[0mappend\u001b[0m\u001b[1;33m(\u001b[0m\u001b[0mpd\u001b[0m\u001b[1;33m.\u001b[0m\u001b[0mDataFrame\u001b[0m\u001b[1;33m(\u001b[0m\u001b[0mdata_array\u001b[0m\u001b[1;33m,\u001b[0m \u001b[0mcolumns\u001b[0m\u001b[1;33m=\u001b[0m\u001b[0mdf\u001b[0m\u001b[1;33m.\u001b[0m\u001b[0mcolumns\u001b[0m\u001b[1;33m)\u001b[0m\u001b[1;33m,\u001b[0m \u001b[0mignore_index\u001b[0m\u001b[1;33m=\u001b[0m\u001b[1;32mTrue\u001b[0m\u001b[1;33m)\u001b[0m\u001b[1;33m\u001b[0m\u001b[1;33m\u001b[0m\u001b[0m\n\u001b[0m",
      "\u001b[1;32mc:\\python\\lib\\site-packages\\pandas\\core\\generic.py\u001b[0m in \u001b[0;36m__getattr__\u001b[1;34m(self, name)\u001b[0m\n\u001b[0;32m   6291\u001b[0m         ):\n\u001b[0;32m   6292\u001b[0m             \u001b[1;32mreturn\u001b[0m \u001b[0mself\u001b[0m\u001b[1;33m[\u001b[0m\u001b[0mname\u001b[0m\u001b[1;33m]\u001b[0m\u001b[1;33m\u001b[0m\u001b[1;33m\u001b[0m\u001b[0m\n\u001b[1;32m-> 6293\u001b[1;33m         \u001b[1;32mreturn\u001b[0m \u001b[0mobject\u001b[0m\u001b[1;33m.\u001b[0m\u001b[0m__getattribute__\u001b[0m\u001b[1;33m(\u001b[0m\u001b[0mself\u001b[0m\u001b[1;33m,\u001b[0m \u001b[0mname\u001b[0m\u001b[1;33m)\u001b[0m\u001b[1;33m\u001b[0m\u001b[1;33m\u001b[0m\u001b[0m\n\u001b[0m\u001b[0;32m   6294\u001b[0m \u001b[1;33m\u001b[0m\u001b[0m\n\u001b[0;32m   6295\u001b[0m     \u001b[1;33m@\u001b[0m\u001b[0mfinal\u001b[0m\u001b[1;33m\u001b[0m\u001b[1;33m\u001b[0m\u001b[0m\n",
      "\u001b[1;31mAttributeError\u001b[0m: 'DataFrame' object has no attribute 'append'"
     ]
    }
   ],
   "source": [
    "df = df.append(pd.DataFrame(data_array, columns=df.columns), ignore_index=True)"
   ]
  },
  {
   "cell_type": "code",
   "execution_count": 169,
   "id": "50ec8862-2e72-4cea-9182-3875b9c8a4ad",
   "metadata": {},
   "outputs": [
    {
     "ename": "TypeError",
     "evalue": "unhashable type: 'list'",
     "output_type": "error",
     "traceback": [
      "\u001b[1;31m---------------------------------------------------------------------------\u001b[0m",
      "\u001b[1;31mTypeError\u001b[0m                                 Traceback (most recent call last)",
      "\u001b[1;32m<ipython-input-169-0b876e645fa5>\u001b[0m in \u001b[0;36m<module>\u001b[1;34m\u001b[0m\n\u001b[0;32m      1\u001b[0m \u001b[0mdf\u001b[0m\u001b[1;33m.\u001b[0m\u001b[0mcolumns\u001b[0m\u001b[1;33m\u001b[0m\u001b[1;33m\u001b[0m\u001b[0m\n\u001b[0;32m      2\u001b[0m \u001b[0mlist\u001b[0m\u001b[1;33m(\u001b[0m\u001b[0mdf\u001b[0m\u001b[1;33m)\u001b[0m\u001b[1;33m\u001b[0m\u001b[1;33m\u001b[0m\u001b[0m\n\u001b[1;32m----> 3\u001b[1;33m \u001b[0mdf\u001b[0m\u001b[1;33m.\u001b[0m\u001b[0mcount\u001b[0m\u001b[1;33m(\u001b[0m\u001b[0mlist\u001b[0m\u001b[1;33m(\u001b[0m\u001b[0mdf\u001b[0m\u001b[1;33m)\u001b[0m\u001b[1;33m)\u001b[0m\u001b[1;33m\u001b[0m\u001b[1;33m\u001b[0m\u001b[0m\n\u001b[0m",
      "\u001b[1;32mc:\\python\\lib\\site-packages\\pandas\\core\\frame.py\u001b[0m in \u001b[0;36mcount\u001b[1;34m(self, axis, numeric_only)\u001b[0m\n\u001b[0;32m  11391\u001b[0m         \u001b[0mdtype\u001b[0m\u001b[1;33m:\u001b[0m \u001b[0mint64\u001b[0m\u001b[1;33m\u001b[0m\u001b[1;33m\u001b[0m\u001b[0m\n\u001b[0;32m  11392\u001b[0m         \"\"\"\n\u001b[1;32m> 11393\u001b[1;33m         \u001b[0maxis\u001b[0m \u001b[1;33m=\u001b[0m \u001b[0mself\u001b[0m\u001b[1;33m.\u001b[0m\u001b[0m_get_axis_number\u001b[0m\u001b[1;33m(\u001b[0m\u001b[0maxis\u001b[0m\u001b[1;33m)\u001b[0m\u001b[1;33m\u001b[0m\u001b[1;33m\u001b[0m\u001b[0m\n\u001b[0m\u001b[0;32m  11394\u001b[0m \u001b[1;33m\u001b[0m\u001b[0m\n\u001b[0;32m  11395\u001b[0m         \u001b[1;32mif\u001b[0m \u001b[0mnumeric_only\u001b[0m\u001b[1;33m:\u001b[0m\u001b[1;33m\u001b[0m\u001b[1;33m\u001b[0m\u001b[0m\n",
      "\u001b[1;32mc:\\python\\lib\\site-packages\\pandas\\core\\generic.py\u001b[0m in \u001b[0;36m_get_axis_number\u001b[1;34m(cls, axis)\u001b[0m\n\u001b[0;32m    573\u001b[0m     \u001b[1;32mdef\u001b[0m \u001b[0m_get_axis_number\u001b[0m\u001b[1;33m(\u001b[0m\u001b[0mcls\u001b[0m\u001b[1;33m,\u001b[0m \u001b[0maxis\u001b[0m\u001b[1;33m:\u001b[0m \u001b[0mAxis\u001b[0m\u001b[1;33m)\u001b[0m \u001b[1;33m->\u001b[0m \u001b[0mAxisInt\u001b[0m\u001b[1;33m:\u001b[0m\u001b[1;33m\u001b[0m\u001b[1;33m\u001b[0m\u001b[0m\n\u001b[0;32m    574\u001b[0m         \u001b[1;32mtry\u001b[0m\u001b[1;33m:\u001b[0m\u001b[1;33m\u001b[0m\u001b[1;33m\u001b[0m\u001b[0m\n\u001b[1;32m--> 575\u001b[1;33m             \u001b[1;32mreturn\u001b[0m \u001b[0mcls\u001b[0m\u001b[1;33m.\u001b[0m\u001b[0m_AXIS_TO_AXIS_NUMBER\u001b[0m\u001b[1;33m[\u001b[0m\u001b[0maxis\u001b[0m\u001b[1;33m]\u001b[0m\u001b[1;33m\u001b[0m\u001b[1;33m\u001b[0m\u001b[0m\n\u001b[0m\u001b[0;32m    576\u001b[0m         \u001b[1;32mexcept\u001b[0m \u001b[0mKeyError\u001b[0m\u001b[1;33m:\u001b[0m\u001b[1;33m\u001b[0m\u001b[1;33m\u001b[0m\u001b[0m\n\u001b[0;32m    577\u001b[0m             \u001b[1;32mraise\u001b[0m \u001b[0mValueError\u001b[0m\u001b[1;33m(\u001b[0m\u001b[1;34mf\"No axis named {axis} for object type {cls.__name__}\"\u001b[0m\u001b[1;33m)\u001b[0m\u001b[1;33m\u001b[0m\u001b[1;33m\u001b[0m\u001b[0m\n",
      "\u001b[1;31mTypeError\u001b[0m: unhashable type: 'list'"
     ]
    }
   ],
   "source": [
    "df.columns\n",
    "list(df)\n",
    "df.count(list(df))"
   ]
  },
  {
   "cell_type": "code",
   "execution_count": 124,
   "id": "9adee84a-d5be-469b-bc07-63ecab109aa3",
   "metadata": {},
   "outputs": [],
   "source": [
    "#retrive the finance_numbers of each Stock and Format them a little, to get a better compare and calculation bases for Numbers \n",
    "#that ends with \"M\" or \"B\", but don't touch Dates etc.\n",
    "\n",
    "finance_numbers = []\n",
    "finanz_zahlen = soup.find_all(\"td\", class_=\"Fw(500) Ta(end) Pstart(10px) Miw(60px)\", string = True)\n",
    "for element in finanz_zahlen:\n",
    "    finance_numbers.append(element.text)\n",
    "\n",
    "\n",
    "\n",
    "for idx, element in enumerate(finance_numbers):\n",
    "    if element.endswith(\"M\"):\n",
    "        finance_numbers[idx] = float(element[:-1]) * 1e6\n",
    "    elif element.endswith(\"B\"):\n",
    "        finance_numbers[idx] = float(element[:-1]) * 1e9\n",
    "    elif element.endswith(\"k\"):\n",
    "        finance_numbers[idx] = float(element[:-1]) * 1e3\n",
    "    elif element.endswith(\"%\"):\n",
    "        finance_numbers[idx] = element\n",
    "    elif type(element) == str:\n",
    "         finance_numbers[idx] = element\n",
    "    else:\n",
    "        finance_numbers[idx] = float(element)\n",
    "\n",
    "\n",
    "data_list += finance_numbers\n",
    "\n",
    "for idx, val in enumerate(data_list):\n",
    "    df\n",
    "\n",
    "    \n"
   ]
  },
  {
   "cell_type": "code",
   "execution_count": 207,
   "id": "0743536d-cb4f-4730-9d42-a4081c98e49f",
   "metadata": {},
   "outputs": [],
   "source": [
    "df = pd.DataFrame(data_array, columns=headers_column)\n"
   ]
  },
  {
   "cell_type": "code",
   "execution_count": 148,
   "id": "808857ee-7c85-497a-8010-ac36774e9ee5",
   "metadata": {},
   "outputs": [
    {
     "data": {
      "text/plain": [
       "array([['24960000000.0', '21910000000.0', '3.88', 'N/A', 'N/A', '1.13',\n",
       "        '1.26', '1.00', '2.51', '1.35', '-46.89%', '22.38%', '359.80',\n",
       "        '103.40', '137.49', '171.56', '23960.0', '24330.0',\n",
       "        '175760000.0', '176010000.0', '6330000.0', '73.90%', '22.86%',\n",
       "        'N/A', 'N/A', 'N/A', 'N/A', 'N/A', '63', '44.43%', '63.00',\n",
       "        '44.43%', '9.82', '172.51%', 'N/A', 'May 04, 2023', 'N/A', 'N/A',\n",
       "        'Dec 31, 2022', 'Sep 30, 2023', '29.22%', '5.02%', '10.77%',\n",
       "        '27.34%', '21970000000.0', '124.95', '-57.90%', 'N/A',\n",
       "        '6840000000.0', '6420000000.0', '36.51', '-95.00%',\n",
       "        '6360000000.0', '36.17', '5460000000.0', '27.57%', '1.82',\n",
       "        '112.41', '9190000000.0', '3970000000.0'],\n",
       "       ['598620000.0', '647520000.0', '14.87', 'N/A', 'N/A', '1.46',\n",
       "        '4.25', '1.50', '6.55', '1.68', '-11.56%', '22.38%', '139.80',\n",
       "        '101.40', '117.20', '114.70', '3810.0', '3020.0', '5430000.0',\n",
       "        '5770000.0', '5410000.0', '0.00%', '64.46%', 'N/A', 'N/A', 'N/A',\n",
       "        'N/A', 'N/A', '4.5', '4.08%', '4.50', '4.08%', '4.49', '60.73%',\n",
       "        'N/A', 'May 18, 2023', 'N/A', 'N/A', 'Dec 31, 2022',\n",
       "        'Sep 30, 2023', '9.79%', '17.82%', '12.29%', '31.26%',\n",
       "        '432650000.0', '75.66', '9.50%', 'N/A', '78780000.0',\n",
       "        '42360000.0', '7.41', '6.20%', '19570000.0', '3.42',\n",
       "        '108330000.0', '75.62%', '0.61', '24.63', '90850000.0',\n",
       "        '77550000.0'],\n",
       "       ['1930000000.0', '1890000000.0', '71.37', 'N/A', 'N/A', '14.62',\n",
       "        '46.97', '14.11', '41.51', '1.23', '48.61%', '22.38%', '257.00',\n",
       "        '152.80', '221.46', '211.86', '39', '26', '7950000.0',\n",
       "        '8150000.0', '3950000.0', '50.20%', '24.78%', 'N/A', 'N/A',\n",
       "        'N/A', 'N/A', 'N/A', '1.83', '0.75%', '0.00', '0.00%', '1.02',\n",
       "        '53.20%', 'N/A', 'May 02, 2023', '2:1', 'Jun 18, 2020',\n",
       "        'Dec 31, 2022', 'Sep 30, 2023', '21.38%', '33.84%', 'N/A', 'N/A',\n",
       "        '142290000.0', '17.90', '30.70%', 'N/A', '46620000.0',\n",
       "        '30420000.0', '3.44', '57.60%', '56090000.0', '7.05',\n",
       "        '8660000.0', '20.89%', 'N/A', '5.23', 'N/A', 'N/A']], dtype='<U32')"
      ]
     },
     "execution_count": 148,
     "metadata": {},
     "output_type": "execute_result"
    }
   ],
   "source": [
    "data_array = np.array(data_list).reshape(3,60)\n",
    "data_array\n",
    "#df = df.append(pd.DataFrame(data_array, columns = df.columns))"
   ]
  },
  {
   "cell_type": "code",
   "execution_count": 208,
   "id": "fbd87434-11e0-4238-9d5e-9056a741fb30",
   "metadata": {},
   "outputs": [
    {
     "data": {
      "text/html": [
       "<div>\n",
       "<style scoped>\n",
       "    .dataframe tbody tr th:only-of-type {\n",
       "        vertical-align: middle;\n",
       "    }\n",
       "\n",
       "    .dataframe tbody tr th {\n",
       "        vertical-align: top;\n",
       "    }\n",
       "\n",
       "    .dataframe thead th {\n",
       "        text-align: right;\n",
       "    }\n",
       "</style>\n",
       "<table border=\"1\" class=\"dataframe\">\n",
       "  <thead>\n",
       "    <tr style=\"text-align: right;\">\n",
       "      <th></th>\n",
       "      <th>Market_Cap_(intraday)_</th>\n",
       "      <th>Enterprise_Value_</th>\n",
       "      <th>Trailing_P/E_</th>\n",
       "      <th>Forward_P/E_</th>\n",
       "      <th>PEG_Ratio_(5_yr_expected)_</th>\n",
       "      <th>Price/Sales_(ttm)</th>\n",
       "      <th>Price/Book_(mrq)</th>\n",
       "      <th>Enterprise_Value/Revenue_</th>\n",
       "      <th>Enterprise_Value/EBITDA_</th>\n",
       "      <th>Beta_(5Y_Monthly)_</th>\n",
       "      <th>...</th>\n",
       "      <th>Diluted_EPS_(ttm)</th>\n",
       "      <th>Quarterly_Earnings_Growth_(yoy)</th>\n",
       "      <th>Total_Cash_(mrq)</th>\n",
       "      <th>Total_Cash_Per_Share_(mrq)</th>\n",
       "      <th>Total_Debt_(mrq)</th>\n",
       "      <th>Total_Debt/Equity_(mrq)</th>\n",
       "      <th>Current_Ratio_(mrq)</th>\n",
       "      <th>Book_Value_Per_Share_(mrq)</th>\n",
       "      <th>Operating_Cash_Flow_(ttm)</th>\n",
       "      <th>Levered_Free_Cash_Flow_(ttm)</th>\n",
       "    </tr>\n",
       "  </thead>\n",
       "  <tbody>\n",
       "    <tr>\n",
       "      <th>0</th>\n",
       "      <td>24960000000.0</td>\n",
       "      <td>21910000000.0</td>\n",
       "      <td>3.88</td>\n",
       "      <td>N/A</td>\n",
       "      <td>N/A</td>\n",
       "      <td>1.13</td>\n",
       "      <td>1.26</td>\n",
       "      <td>1.00</td>\n",
       "      <td>2.51</td>\n",
       "      <td>1.35</td>\n",
       "      <td>...</td>\n",
       "      <td>36.51</td>\n",
       "      <td>-95.00%</td>\n",
       "      <td>6360000000.0</td>\n",
       "      <td>36.17</td>\n",
       "      <td>5460000000.0</td>\n",
       "      <td>27.57%</td>\n",
       "      <td>1.82</td>\n",
       "      <td>112.41</td>\n",
       "      <td>9190000000.0</td>\n",
       "      <td>3970000000.0</td>\n",
       "    </tr>\n",
       "    <tr>\n",
       "      <th>1</th>\n",
       "      <td>598620000.0</td>\n",
       "      <td>647520000.0</td>\n",
       "      <td>14.87</td>\n",
       "      <td>N/A</td>\n",
       "      <td>N/A</td>\n",
       "      <td>1.46</td>\n",
       "      <td>4.25</td>\n",
       "      <td>1.50</td>\n",
       "      <td>6.55</td>\n",
       "      <td>1.68</td>\n",
       "      <td>...</td>\n",
       "      <td>7.41</td>\n",
       "      <td>6.20%</td>\n",
       "      <td>19570000.0</td>\n",
       "      <td>3.42</td>\n",
       "      <td>108330000.0</td>\n",
       "      <td>75.62%</td>\n",
       "      <td>0.61</td>\n",
       "      <td>24.63</td>\n",
       "      <td>90850000.0</td>\n",
       "      <td>77550000.0</td>\n",
       "    </tr>\n",
       "    <tr>\n",
       "      <th>2</th>\n",
       "      <td>1930000000.0</td>\n",
       "      <td>1890000000.0</td>\n",
       "      <td>71.37</td>\n",
       "      <td>N/A</td>\n",
       "      <td>N/A</td>\n",
       "      <td>14.62</td>\n",
       "      <td>46.97</td>\n",
       "      <td>14.11</td>\n",
       "      <td>41.51</td>\n",
       "      <td>1.23</td>\n",
       "      <td>...</td>\n",
       "      <td>3.44</td>\n",
       "      <td>57.60%</td>\n",
       "      <td>56090000.0</td>\n",
       "      <td>7.05</td>\n",
       "      <td>8660000.0</td>\n",
       "      <td>20.89%</td>\n",
       "      <td>N/A</td>\n",
       "      <td>5.23</td>\n",
       "      <td>N/A</td>\n",
       "      <td>N/A</td>\n",
       "    </tr>\n",
       "  </tbody>\n",
       "</table>\n",
       "<p>3 rows × 60 columns</p>\n",
       "</div>"
      ],
      "text/plain": [
       "  Market_Cap_(intraday)_ Enterprise_Value_ Trailing_P/E_ Forward_P/E_  \\\n",
       "0          24960000000.0     21910000000.0          3.88          N/A   \n",
       "1            598620000.0       647520000.0         14.87          N/A   \n",
       "2           1930000000.0      1890000000.0         71.37          N/A   \n",
       "\n",
       "  PEG_Ratio_(5_yr_expected)_ Price/Sales_(ttm) Price/Book_(mrq)  \\\n",
       "0                        N/A              1.13             1.26   \n",
       "1                        N/A              1.46             4.25   \n",
       "2                        N/A             14.62            46.97   \n",
       "\n",
       "  Enterprise_Value/Revenue_ Enterprise_Value/EBITDA_ Beta_(5Y_Monthly)_  ...  \\\n",
       "0                      1.00                     2.51               1.35  ...   \n",
       "1                      1.50                     6.55               1.68  ...   \n",
       "2                     14.11                    41.51               1.23  ...   \n",
       "\n",
       "  Diluted_EPS_(ttm) Quarterly_Earnings_Growth_(yoy) Total_Cash_(mrq)  \\\n",
       "0             36.51                         -95.00%     6360000000.0   \n",
       "1              7.41                           6.20%       19570000.0   \n",
       "2              3.44                          57.60%       56090000.0   \n",
       "\n",
       "  Total_Cash_Per_Share_(mrq) Total_Debt_(mrq) Total_Debt/Equity_(mrq)  \\\n",
       "0                      36.17     5460000000.0                  27.57%   \n",
       "1                       3.42      108330000.0                  75.62%   \n",
       "2                       7.05        8660000.0                  20.89%   \n",
       "\n",
       "  Current_Ratio_(mrq) Book_Value_Per_Share_(mrq) Operating_Cash_Flow_(ttm)  \\\n",
       "0                1.82                     112.41              9190000000.0   \n",
       "1                0.61                      24.63                90850000.0   \n",
       "2                 N/A                       5.23                       N/A   \n",
       "\n",
       "  Levered_Free_Cash_Flow_(ttm)  \n",
       "0                 3970000000.0  \n",
       "1                   77550000.0  \n",
       "2                          N/A  \n",
       "\n",
       "[3 rows x 60 columns]"
      ]
     },
     "execution_count": 208,
     "metadata": {},
     "output_type": "execute_result"
    }
   ],
   "source": [
    "df"
   ]
  },
  {
   "cell_type": "code",
   "execution_count": 147,
   "id": "d6b8d4cb-ffea-4938-a300-2e5aaacfd61e",
   "metadata": {},
   "outputs": [
    {
     "name": "stdout",
     "output_type": "stream",
     "text": [
      "<class 'pandas.core.frame.DataFrame'>\n"
     ]
    }
   ],
   "source": [
    "print(type(df))"
   ]
  },
  {
   "cell_type": "code",
   "execution_count": 62,
   "id": "150cba7c-0363-499b-9a42-39db93f6d2e7",
   "metadata": {},
   "outputs": [
    {
     "data": {
      "text/plain": [
       "Index([    'Market_Cap_(intraday)_',          'Enterprise_Value_',\n",
       "                    'Trailing_P/E_',               'Forward_P/E_',\n",
       "       'PEG_Ratio_(5_yr_expected)_',          'Price/Sales_(ttm)',\n",
       "                 'Price/Book_(mrq)',  'Enterprise_Value/Revenue_',\n",
       "         'Enterprise_Value/EBITDA_',         'Beta_(5Y_Monthly)_',\n",
       "       ...\n",
       "                                 50,                           51,\n",
       "                                 52,                           53,\n",
       "                                 54,                           55,\n",
       "                                 56,                           57,\n",
       "                                 58,                           59],\n",
       "      dtype='object', length=120)"
      ]
     },
     "execution_count": 62,
     "metadata": {},
     "output_type": "execute_result"
    }
   ],
   "source": [
    "type(finance_numbers)\n",
    "type(df)\n",
    "df.columns"
   ]
  },
  {
   "cell_type": "code",
   "execution_count": 69,
   "id": "09d11680-fb15-4c56-be58-17812508f0ff",
   "metadata": {},
   "outputs": [
    {
     "data": {
      "text/plain": [
       "<function list.index(value, start=0, stop=9223372036854775807, /)>"
      ]
     },
     "execution_count": 69,
     "metadata": {},
     "output_type": "execute_result"
    }
   ],
   "source": [
    "new_list = [1,2,3]\n",
    "\n",
    "\n",
    "finance_numbers.index"
   ]
  },
  {
   "cell_type": "code",
   "execution_count": 71,
   "id": "e713ba30-a2a8-4b7f-ac77-60a6ef45a0c0",
   "metadata": {},
   "outputs": [
    {
     "name": "stdout",
     "output_type": "stream",
     "text": [
      "[24960000000.0, 21910000000.0, '3.88', 'N/A', 'N/A', '1.13', '1.26', '1.00', '2.51', '1.35', '-46.89%', '22.38%', '359.80', '103.40', '137.49', '171.56', 23960.0, 24330.0, 175760000.0, 176010000.0, 6330000.0, '73.90%', '22.86%', 'N/A', 'N/A', 'N/A', 'N/A', 'N/A', '63', '44.43%', '63.00', '44.43%', '9.82', '172.51%', 'N/A', 'May 04, 2023', 'N/A', 'N/A', 'Dec 31, 2022', 'Sep 30, 2023', '29.22%', '5.02%', '10.77%', '27.34%', 21970000000.0, '124.95', '-57.90%', 'N/A', 6840000000.0, 6420000000.0, '36.51', '-95.00%', 6360000000.0, '36.17', 5460000000.0, '27.57%', '1.82', '112.41', 9190000000.0, 3970000000.0]\n"
     ]
    }
   ],
   "source": [
    "finance_numbers = []\n",
    "finanz_zahlen = soup.find_all(\"td\", class_=\"Fw(500) Ta(end) Pstart(10px) Miw(60px)\", string = True)\n",
    "for element in finanz_zahlen:\n",
    "    finance_numbers.append(element.text)\n",
    "\n",
    "\n",
    "\n",
    "for idx, element in enumerate(finance_numbers):\n",
    "    if element.endswith(\"M\"):\n",
    "        finance_numbers[idx] = float(element[:-1]) * 1e6\n",
    "    elif element.endswith(\"B\"):\n",
    "        finance_numbers[idx] = float(element[:-1]) * 1e9\n",
    "    elif element.endswith(\"k\"):\n",
    "        finance_numbers[idx] = float(element[:-1]) * 1e3\n",
    "    elif element.endswith(\"%\"):\n",
    "        finance_numbers[idx] = element\n",
    "    elif type(element) == str:\n",
    "         finance_numbers[idx] = element\n",
    "    else:\n",
    "        finance_numbers[idx] = float(element)\n",
    "\n",
    "print(finance_numbers)\n"
   ]
  },
  {
   "cell_type": "code",
   "execution_count": 54,
   "id": "d5d5573b-17b7-4827-8046-938958aa7ce2",
   "metadata": {},
   "outputs": [
    {
     "name": "stdout",
     "output_type": "stream",
     "text": [
      "['Enterprise_Value_', 'Trailing_P/E_', 'Forward_P/E_', 'PEG_Ratio_(5_yr_expected)_', 'Price/Sales_(ttm)', 'Price/Book_(mrq)', 'Enterprise_Value/Revenue_', 'Enterprise_Value/EBITDA_', '52-Week_Change_3', 'S&P500_52-Week_Change_3', '52_Week_High_3', '52_Week_Low_3', '50-Day_Moving_Average_3', '200-Day_Moving_Average_3', 'Avg_Vol_(10_day)_3', 'Shares_Outstanding_5', 'Implied_Shares_Outstanding_6', 'Float_8', '%_Held_by_Insiders_1', '%_Held_by_Institutions_1', 'Shares_Short__4', 'Short_Ratio__4', 'Short_%_of_Float__4', 'Short_%_of_Shares_Outstanding__4', 'Shares_Short_(prior_month_)_4', 'Forward_Annual_Dividend_Yield_4', 'Trailing_Annual_Dividend_Rate_3', 'Trailing_Annual_Dividend_Yield_3', '5_Year_Average_Dividend_Yield_4', 'Payout_Ratio_4', 'Dividend_Date_3', 'Ex-Dividend_Date_4', 'Last_Split_Factor_2', 'Last_Split_Date_3', 'Most_Recent_Quarter_(mrq)', 'Operating_Margin_(ttm)', 'Return_on_Equity_(ttm)', 'Revenue_Per_Share_(ttm)', 'Quarterly_Revenue_Growth_(yoy)', 'Gross_Profit_(ttm)', 'EBITDA_', 'Net_Income_Avi_to_Common_(ttm)', 'Diluted_EPS_(ttm)', 'Quarterly_Earnings_Growth_(yoy)', 'Total_Cash_Per_Share_(mrq)', 'Total_Debt_(mrq)', 'Total_Debt/Equity_(mrq)', 'Current_Ratio_(mrq)', 'Book_Value_Per_Share_(mrq)', 'Levered_Free_Cash_Flow_(ttm)']\n"
     ]
    }
   ],
   "source": [
    "finance_names = []\n",
    "column_names = soup.find_all(\"td\", class_=\"Pos(st) Start(0) Bgc($lv2BgColor) fi-row:h_Bgc($hoverBgColor) Pend(10px)\")\n",
    "for element in column_names:\n",
    "    finance_names.append(element.text)\n",
    "for idx, element in enumerate(finance_names):\n",
    "    finance_names[idx] =  element.replace(\" \",\"_\")\n",
    "print(finance_names)\n"
   ]
  },
  {
   "cell_type": "code",
   "execution_count": 49,
   "id": "3058567b-6728-434c-a3f9-8f4efa3a02b5",
   "metadata": {},
   "outputs": [
    {
     "name": "stdout",
     "output_type": "stream",
     "text": [
      "Index of 35\n"
     ]
    }
   ],
   "source": [
    "value = \"May 04, 2023\"\n",
    "index_of_element = finance_numbers.index(value)\n",
    "\n",
    "print(\"Index of\", index_of_element)\n",
    "\n",
    "for li in range(len(finance_numbers)):\n",
    "    finance_numbers[li] = finance_numbers[li].replace(\"N/A\", \"0\")\n",
    "\n"
   ]
  },
  {
   "cell_type": "code",
   "execution_count": 50,
   "id": "0703be01-d369-44df-ad75-2d52999ba8c1",
   "metadata": {},
   "outputs": [
    {
     "data": {
      "text/plain": [
       "str"
      ]
     },
     "execution_count": 50,
     "metadata": {},
     "output_type": "execute_result"
    }
   ],
   "source": [
    "type(finance_numbers[35])"
   ]
  },
  {
   "cell_type": "code",
   "execution_count": 23,
   "id": "43fab876-d775-4a3f-ab9d-a74da3315abc",
   "metadata": {},
   "outputs": [
    {
     "data": {
      "text/plain": [
       "['Enterprise Value ',\n",
       " 'Trailing P/E ',\n",
       " 'Forward P/E ',\n",
       " 'PEG Ratio (5 yr expected) ',\n",
       " 'Price/Sales (ttm)',\n",
       " 'Price/Book (mrq)',\n",
       " 'Enterprise Value/Revenue ',\n",
       " 'Enterprise Value/EBITDA ',\n",
       " '52-Week Change 3',\n",
       " 'S&P500 52-Week Change 3',\n",
       " '52 Week High 3',\n",
       " '52 Week Low 3',\n",
       " '50-Day Moving Average 3',\n",
       " '200-Day Moving Average 3',\n",
       " 'Avg Vol (10 day) 3',\n",
       " 'Shares Outstanding 5',\n",
       " 'Implied Shares Outstanding 6',\n",
       " 'Float 8',\n",
       " '% Held by Insiders 1',\n",
       " '% Held by Institutions 1',\n",
       " 'Shares Short  4',\n",
       " 'Short Ratio  4',\n",
       " 'Short % of Float  4',\n",
       " 'Short % of Shares Outstanding  4',\n",
       " 'Shares Short (prior month ) 4',\n",
       " 'Forward Annual Dividend Yield 4',\n",
       " 'Trailing Annual Dividend Rate 3',\n",
       " 'Trailing Annual Dividend Yield 3',\n",
       " '5 Year Average Dividend Yield 4',\n",
       " 'Payout Ratio 4',\n",
       " 'Dividend Date 3',\n",
       " 'Ex-Dividend Date 4',\n",
       " 'Last Split Factor 2',\n",
       " 'Last Split Date 3',\n",
       " 'Most Recent Quarter (mrq)',\n",
       " 'Operating Margin (ttm)',\n",
       " 'Return on Equity (ttm)',\n",
       " 'Revenue Per Share (ttm)',\n",
       " 'Quarterly Revenue Growth (yoy)',\n",
       " 'Gross Profit (ttm)',\n",
       " 'EBITDA ',\n",
       " 'Net Income Avi to Common (ttm)',\n",
       " 'Diluted EPS (ttm)',\n",
       " 'Quarterly Earnings Growth (yoy)',\n",
       " 'Total Cash Per Share (mrq)',\n",
       " 'Total Debt (mrq)',\n",
       " 'Total Debt/Equity (mrq)',\n",
       " 'Current Ratio (mrq)',\n",
       " 'Book Value Per Share (mrq)',\n",
       " 'Levered Free Cash Flow (ttm)']"
      ]
     },
     "execution_count": 23,
     "metadata": {},
     "output_type": "execute_result"
    }
   ],
   "source": []
  },
  {
   "cell_type": "code",
   "execution_count": 5,
   "id": "86a78d9b-1f61-4cf3-ab02-c3f2452b64de",
   "metadata": {},
   "outputs": [
    {
     "ename": "NameError",
     "evalue": "name 'finance_list' is not defined",
     "output_type": "error",
     "traceback": [
      "\u001b[1;31m---------------------------------------------------------------------------\u001b[0m",
      "\u001b[1;31mNameError\u001b[0m                                 Traceback (most recent call last)",
      "\u001b[1;32m<ipython-input-5-08728c8bd4cc>\u001b[0m in \u001b[0;36m<module>\u001b[1;34m\u001b[0m\n\u001b[0;32m      3\u001b[0m \u001b[0mfinanz_zahlen\u001b[0m \u001b[1;33m=\u001b[0m \u001b[0msoup\u001b[0m\u001b[1;33m.\u001b[0m\u001b[0mfind_all\u001b[0m\u001b[1;33m(\u001b[0m\u001b[1;34m\"td\"\u001b[0m\u001b[1;33m,\u001b[0m \u001b[0mclass_\u001b[0m\u001b[1;33m=\u001b[0m\u001b[1;34m\"Fw(500) Ta(end) Pstart(10px) Miw(60px)\"\u001b[0m\u001b[1;33m,\u001b[0m \u001b[0mstring\u001b[0m \u001b[1;33m=\u001b[0m \u001b[1;32mTrue\u001b[0m\u001b[1;33m)\u001b[0m\u001b[1;33m\u001b[0m\u001b[1;33m\u001b[0m\u001b[0m\n\u001b[0;32m      4\u001b[0m \u001b[1;32mfor\u001b[0m \u001b[0melement\u001b[0m \u001b[1;32min\u001b[0m \u001b[0mfinanz_zahlen\u001b[0m\u001b[1;33m:\u001b[0m\u001b[1;33m\u001b[0m\u001b[1;33m\u001b[0m\u001b[0m\n\u001b[1;32m----> 5\u001b[1;33m     \u001b[0mfinance_list\u001b[0m\u001b[1;33m.\u001b[0m\u001b[0mappend\u001b[0m\u001b[1;33m(\u001b[0m\u001b[0melement\u001b[0m\u001b[1;33m)\u001b[0m\u001b[1;33m\u001b[0m\u001b[1;33m\u001b[0m\u001b[0m\n\u001b[0m\u001b[0;32m      6\u001b[0m \u001b[1;33m\u001b[0m\u001b[0m\n\u001b[0;32m      7\u001b[0m \u001b[1;33m\u001b[0m\u001b[0m\n",
      "\u001b[1;31mNameError\u001b[0m: name 'finance_list' is not defined"
     ]
    }
   ],
   "source": [
    "\n",
    "\n",
    "## Extracting the desired finance Numbers (rows) with Beautifulsoup from the yahoo Website\n",
    "finance_numbers = []\n",
    "finanz_zahlen = soup.find_all(\"td\", class_=\"Fw(500) Ta(end) Pstart(10px) Miw(60px)\", string = True)\n",
    "for element in finanz_zahlen:\n",
    "    finance_list.append(element)\n",
    "\n",
    "\n",
    "## Extracting the desired column names with Beautifulsoup from the yahoo Website\n",
    "finance_names = []\n",
    "column_names = soup.find_all(\"td\", class_=\"Pos(st) Start(0) Bgc($lv2BgColor) fi-row:h_Bgc($hoverBgColor) Pend(10px)\")\n",
    "for element in column_names:\n",
    "    finance_names.append(element)\n"
   ]
  },
  {
   "cell_type": "code",
   "execution_count": 7,
   "id": "1f7cf520-c725-414a-b28c-446c0c914516",
   "metadata": {},
   "outputs": [
    {
     "ename": "SyntaxError",
     "evalue": "invalid syntax (<ipython-input-7-3f6647d1fe6a>, line 1)",
     "output_type": "error",
     "traceback": [
      "\u001b[1;36m  File \u001b[1;32m\"<ipython-input-7-3f6647d1fe6a>\"\u001b[1;36m, line \u001b[1;32m1\u001b[0m\n\u001b[1;33m    <tr class=\"Bxz(bb) H(36px) BdY Bdc($seperatorColor) fi-row Bgc($hoverBgColor):h\"><td class=\"Pos(st) Start(0) Bgc($lv2BgColor) fi-row:h_Bgc($hoverBgColor) Pend(10px)  Miw(140px)\"><span>Market Cap (intraday)</span> <sup aria-label=\"\"></sup></td><td class=\"Fw(500) Ta(end) Pstart(10px) Miw(60px)\">24.96B</td></tr>\u001b[0m\n\u001b[1;37m    ^\u001b[0m\n\u001b[1;31mSyntaxError\u001b[0m\u001b[1;31m:\u001b[0m invalid syntax\n"
     ]
    }
   ],
   "source": [
    "<tr class=\"Bxz(bb) H(36px) BdY Bdc($seperatorColor) fi-row Bgc($hoverBgColor):h\"><td class=\"Pos(st) Start(0) Bgc($lv2BgColor) fi-row:h_Bgc($hoverBgColor) Pend(10px)  Miw(140px)\"><span>Market Cap (intraday)</span> <sup aria-label=\"\"></sup></td><td class=\"Fw(500) Ta(end) Pstart(10px) Miw(60px)\">24.96B</td></tr>"
   ]
  },
  {
   "cell_type": "code",
   "execution_count": 6,
   "id": "87517d27-1181-457c-bfc0-c344f6482444",
   "metadata": {},
   "outputs": [
    {
     "ename": "NameError",
     "evalue": "name 'test1' is not defined",
     "output_type": "error",
     "traceback": [
      "\u001b[1;31m---------------------------------------------------------------------------\u001b[0m",
      "\u001b[1;31mNameError\u001b[0m                                 Traceback (most recent call last)",
      "\u001b[1;32m<ipython-input-6-20f06963373a>\u001b[0m in \u001b[0;36m<module>\u001b[1;34m\u001b[0m\n\u001b[0;32m      1\u001b[0m \u001b[0mfinance_names\u001b[0m \u001b[1;33m=\u001b[0m \u001b[0msoup\u001b[0m\u001b[1;33m.\u001b[0m\u001b[0mfind_all\u001b[0m\u001b[1;33m(\u001b[0m\u001b[1;34m\"td\"\u001b[0m\u001b[1;33m,\u001b[0m \u001b[0mclass_\u001b[0m\u001b[1;33m=\u001b[0m\u001b[1;34m\"Pos(st) Start(0) Bgc($lv2BgColor) fi-row:h_Bgc($hoverBgColor) Pend(10px)\"\u001b[0m\u001b[1;33m)\u001b[0m\u001b[1;33m\u001b[0m\u001b[1;33m\u001b[0m\u001b[0m\n\u001b[1;32m----> 2\u001b[1;33m \u001b[1;32mfor\u001b[0m \u001b[0melement\u001b[0m \u001b[1;32min\u001b[0m \u001b[0mtest1\u001b[0m\u001b[1;33m:\u001b[0m\u001b[1;33m\u001b[0m\u001b[1;33m\u001b[0m\u001b[0m\n\u001b[0m\u001b[0;32m      3\u001b[0m     \u001b[0mprint\u001b[0m\u001b[1;33m(\u001b[0m\u001b[0melement\u001b[0m\u001b[1;33m.\u001b[0m\u001b[0mtext\u001b[0m\u001b[1;33m)\u001b[0m\u001b[1;33m\u001b[0m\u001b[1;33m\u001b[0m\u001b[0m\n",
      "\u001b[1;31mNameError\u001b[0m: name 'test1' is not defined"
     ]
    }
   ],
   "source": [
    "finance_names = soup.find_all(\"td\", class_=\"Pos(st) Start(0) Bgc($lv2BgColor) fi-row:h_Bgc($hoverBgColor) Pend(10px)\")\n",
    "for element in test1:\n",
    "    print(element.text)"
   ]
  },
  {
   "cell_type": "code",
   "execution_count": null,
   "id": "52169283-d83f-45df-8366-7c3873e51d99",
   "metadata": {},
   "outputs": [],
   "source": [
    "class=\"Bxz(bb) H(36px) BdB Bdbc($seperatorColor) fi-row Bgc($hoverBgColor):h\"\n",
    "\"Pos(st) Start(0) Bgc($lv2BgColor) fi-row:h_Bgc($hoverBgColor) Pend(10px)\""
   ]
  }
 ],
 "metadata": {
  "kernelspec": {
   "display_name": "Python 3",
   "language": "python",
   "name": "python3"
  },
  "language_info": {
   "codemirror_mode": {
    "name": "ipython",
    "version": 3
   },
   "file_extension": ".py",
   "mimetype": "text/x-python",
   "name": "python",
   "nbconvert_exporter": "python",
   "pygments_lexer": "ipython3",
   "version": "3.9.1"
  }
 },
 "nbformat": 4,
 "nbformat_minor": 5
}
