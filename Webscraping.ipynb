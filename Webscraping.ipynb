{
 "cells": [
  {
   "cell_type": "code",
   "execution_count": 1,
   "id": "3bf56fb0-2405-421c-81f0-5be8f1a5ab25",
   "metadata": {},
   "outputs": [],
   "source": [
    "import requests\n",
    "from bs4 import BeautifulSoup"
   ]
  },
  {
   "cell_type": "code",
   "execution_count": null,
   "id": "16f9c5f3-f18d-4296-9ae7-8515126463d4",
   "metadata": {},
   "outputs": [],
   "source": []
  },
  {
   "cell_type": "code",
   "execution_count": null,
   "id": "9adee84a-d5be-469b-bc07-63ecab109aa3",
   "metadata": {},
   "outputs": [],
   "source": [
    "\n",
    "\n",
    "\n",
    "\n",
    "def get_data_statistics(link):\n",
    "    r = requests.get(link)\n",
    "    soup = BeautifulSoup(r.text, \"html.parser\")\n",
    "    table_statistics = soup.findAll(\"tr\", class_=\"\n",
    "    \n"
   ]
  },
  {
   "cell_type": "code",
   "execution_count": 70,
   "id": "e713ba30-a2a8-4b7f-ac77-60a6ef45a0c0",
   "metadata": {},
   "outputs": [],
   "source": [
    "link = \"https://finance.yahoo.com/quote/HLAG.DE/key-statistics?p=HLAG.DE\"\n",
    "headers = {\"User-Agent\" : \"Mozilla/5.0 (Windows NT 10.0; Win64; x64; rv:99.0) Gecko/20100101 Firefox/99.0\"}\n",
    "r = requests.get(link, headers=headers)\n",
    "if r.status_code == 200:\n",
    "    soup = BeautifulSoup(r.content, \"html.parser\")"
   ]
  },
  {
   "cell_type": "code",
   "execution_count": 71,
   "id": "43fab876-d775-4a3f-ab9d-a74da3315abc",
   "metadata": {},
   "outputs": [
    {
     "data": {
      "text/plain": [
       "200"
      ]
     },
     "execution_count": 71,
     "metadata": {},
     "output_type": "execute_result"
    }
   ],
   "source": [
    "r.status_code"
   ]
  },
  {
   "cell_type": "code",
   "execution_count": 84,
   "id": "86a78d9b-1f61-4cf3-ab02-c3f2452b64de",
   "metadata": {},
   "outputs": [
    {
     "name": "stdout",
     "output_type": "stream",
     "text": [
      "24.96B\n",
      "21.91B\n",
      "3.87\n",
      "N/A\n",
      "N/A\n",
      "1.13\n",
      "1.26\n",
      "1.00\n",
      "2.51\n",
      "1.35\n",
      "-35.56%\n",
      "18.70%\n",
      "359.80\n",
      "103.40\n",
      "136.49\n",
      "173.23\n",
      "25.42k\n",
      "25.03k\n",
      "175.76M\n",
      "176.38M\n",
      "6.33M\n",
      "73.90%\n",
      "22.86%\n",
      "N/A\n",
      "N/A\n",
      "N/A\n",
      "N/A\n",
      "N/A\n",
      "63\n",
      "44.52%\n",
      "63.00\n",
      "44.52%\n",
      "9.82\n",
      "172.51%\n",
      "N/A\n",
      "May 04, 2023\n",
      "N/A\n",
      "N/A\n",
      "Dec 31, 2022\n",
      "Sep 30, 2023\n",
      "29.22%\n",
      "5.02%\n",
      "10.77%\n",
      "27.34%\n",
      "21.97B\n",
      "124.95\n",
      "-57.90%\n",
      "N/A\n",
      "6.84B\n",
      "6.42B\n",
      "36.52\n",
      "-95.00%\n",
      "6.36B\n",
      "36.17\n",
      "5.46B\n",
      "27.57%\n",
      "1.82\n",
      "112.41\n",
      "9.19B\n",
      "3.97B\n"
     ]
    }
   ],
   "source": [
    "\n",
    "\n",
    "## Extracting the desired finance Numbers (rows) with Beautifulsoup from the yahoo Website\n",
    "finance_numbers = []\n",
    "finanz_zahlen = soup.find_all(\"td\", class_=\"Fw(500) Ta(end) Pstart(10px) Miw(60px)\", string = True)\n",
    "for element in finanz_namen:\n",
    "    finance_list.append(element)\n",
    "\n",
    "\n",
    "## Extracting the desired column names with Beautifulsoup from the yahoo Website\n",
    "finance_names = []\n",
    "spalten_namen = soup.find_all(\"td\", class_=\"Pos(st) Start(0) Bgc($lv2BgColor) fi-row:h_Bgc($hoverBgColor) Pend(10px)\")\n",
    "for element in spalten_namen:\n",
    "    finance_names.append(element)\n"
   ]
  },
  {
   "cell_type": "code",
   "execution_count": null,
   "id": "1f7cf520-c725-414a-b28c-446c0c914516",
   "metadata": {},
   "outputs": [],
   "source": [
    "<tr class=\"Bxz(bb) H(36px) BdY Bdc($seperatorColor) fi-row Bgc($hoverBgColor):h\"><td class=\"Pos(st) Start(0) Bgc($lv2BgColor) fi-row:h_Bgc($hoverBgColor) Pend(10px)  Miw(140px)\"><span>Market Cap (intraday)</span> <sup aria-label=\"\"></sup></td><td class=\"Fw(500) Ta(end) Pstart(10px) Miw(60px)\">24.96B</td></tr>"
   ]
  },
  {
   "cell_type": "code",
   "execution_count": 83,
   "id": "87517d27-1181-457c-bfc0-c344f6482444",
   "metadata": {},
   "outputs": [
    {
     "name": "stdout",
     "output_type": "stream",
     "text": [
      "Enterprise Value \n",
      "Trailing P/E \n",
      "Forward P/E \n",
      "PEG Ratio (5 yr expected) \n",
      "Price/Sales (ttm)\n",
      "Price/Book (mrq)\n",
      "Enterprise Value/Revenue \n",
      "Enterprise Value/EBITDA \n",
      "52-Week Change 3\n",
      "S&P500 52-Week Change 3\n",
      "52 Week High 3\n",
      "52 Week Low 3\n",
      "50-Day Moving Average 3\n",
      "200-Day Moving Average 3\n",
      "Avg Vol (10 day) 3\n",
      "Shares Outstanding 5\n",
      "Implied Shares Outstanding 6\n",
      "Float 8\n",
      "% Held by Insiders 1\n",
      "% Held by Institutions 1\n",
      "Shares Short  4\n",
      "Short Ratio  4\n",
      "Short % of Float  4\n",
      "Short % of Shares Outstanding  4\n",
      "Shares Short (prior month ) 4\n",
      "Forward Annual Dividend Yield 4\n",
      "Trailing Annual Dividend Rate 3\n",
      "Trailing Annual Dividend Yield 3\n",
      "5 Year Average Dividend Yield 4\n",
      "Payout Ratio 4\n",
      "Dividend Date 3\n",
      "Ex-Dividend Date 4\n",
      "Last Split Factor 2\n",
      "Last Split Date 3\n",
      "Most Recent Quarter (mrq)\n",
      "Operating Margin (ttm)\n",
      "Return on Equity (ttm)\n",
      "Revenue Per Share (ttm)\n",
      "Quarterly Revenue Growth (yoy)\n",
      "Gross Profit (ttm)\n",
      "EBITDA \n",
      "Net Income Avi to Common (ttm)\n",
      "Diluted EPS (ttm)\n",
      "Quarterly Earnings Growth (yoy)\n",
      "Total Cash Per Share (mrq)\n",
      "Total Debt (mrq)\n",
      "Total Debt/Equity (mrq)\n",
      "Current Ratio (mrq)\n",
      "Book Value Per Share (mrq)\n",
      "Levered Free Cash Flow (ttm)\n"
     ]
    }
   ],
   "source": [
    "finance_names = soup.find_all(\"td\", class_=\"Pos(st) Start(0) Bgc($lv2BgColor) fi-row:h_Bgc($hoverBgColor) Pend(10px)\")\n",
    "for element in test1:\n",
    "    print(element.text)"
   ]
  },
  {
   "cell_type": "code",
   "execution_count": null,
   "id": "52169283-d83f-45df-8366-7c3873e51d99",
   "metadata": {},
   "outputs": [],
   "source": [
    "class=\"Bxz(bb) H(36px) BdB Bdbc($seperatorColor) fi-row Bgc($hoverBgColor):h\"\n",
    "\"Pos(st) Start(0) Bgc($lv2BgColor) fi-row:h_Bgc($hoverBgColor) Pend(10px)\""
   ]
  }
 ],
 "metadata": {
  "kernelspec": {
   "display_name": "Python 3",
   "language": "python",
   "name": "python3"
  },
  "language_info": {
   "codemirror_mode": {
    "name": "ipython",
    "version": 3
   },
   "file_extension": ".py",
   "mimetype": "text/x-python",
   "name": "python",
   "nbconvert_exporter": "python",
   "pygments_lexer": "ipython3",
   "version": "3.9.1"
  }
 },
 "nbformat": 4,
 "nbformat_minor": 5
}
