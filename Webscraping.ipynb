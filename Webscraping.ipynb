{
 "cells": [
  {
   "cell_type": "code",
   "execution_count": 1,
   "id": "3bf56fb0-2405-421c-81f0-5be8f1a5ab25",
   "metadata": {},
   "outputs": [
    {
     "name": "stderr",
     "output_type": "stream",
     "text": [
      "<ipython-input-1-717e3dedb123>:4: DeprecationWarning: \n",
      "Pyarrow will become a required dependency of pandas in the next major release of pandas (pandas 3.0),\n",
      "(to allow more performant data types, such as the Arrow string type, and better interoperability with other libraries)\n",
      "but was not found to be installed on your system.\n",
      "If this would cause problems for you,\n",
      "please provide us feedback at https://github.com/pandas-dev/pandas/issues/54466\n",
      "        \n",
      "  import pandas as pd\n"
     ]
    }
   ],
   "source": [
    "import requests\n",
    "import re\n",
    "from bs4 import BeautifulSoup\n",
    "import pandas as pd\n",
    "import numpy as np\n",
    "import gspread\n",
    "from oauth2client.service_account import ServiceAccountCredentials"
   ]
  },
  {
   "cell_type": "code",
   "execution_count": 2,
   "id": "16f9c5f3-f18d-4296-9ae7-8515126463d4",
   "metadata": {},
   "outputs": [],
   "source": [
    "#for single link testing #link = \"https://finance.yahoo.com/quote/HLAG.DE/key-statistics?p=HLAG.DE\"\n",
    "\n",
    "link_list = [\"https://finance.yahoo.com/quote/HLAG.DE/key-statistics?p=HLAG.DE\", \"https://finance.yahoo.com/quote/AAD.DE/key-statistics?p=AAD.DE\", \"https://finance.yahoo.com/quote/AOF.F/key-statistics?p=AOF.F\" ]\n",
    "headers_http = {\"User-Agent\" : \"Mozilla/5.0 (Windows NT 10.0; Win64; x64; rv:99.0) Gecko/20100101 Firefox/99.0\"}"
   ]
  },
  {
   "cell_type": "code",
   "execution_count": 3,
   "id": "f959e372-dbb4-4294-800a-7035b2678fdd",
   "metadata": {},
   "outputs": [
    {
     "data": {
      "text/plain": [
       "'\\nThis code was used, to extract the Table Headers, which i fill in here hardcoded, because its the same financial Names in every Stock\\nfinance_names = []\\n\\n#noticed only 50 of 60 headlines were found - 10 have other class name (for no reason) catched them with RegEX -- (\"td\", class_=\"Pos(st) Start(0) Bgc($lv2BgColor) fi-row:h_Bgc($hoverBgColor) Pend(10px)\")\\nclass_pattern = re.compile(r\"(^|\\\\s)Pos\\\\(st\\\\) Start\\\\(0\\\\) Bgc\\\\(\\\\$lv2BgColor\\\\) fi-row:h_Bgc\\\\(\\\\$hoverBgColor\\\\) Pend\\\\(10px\\\\)(\\\\s|$)\")\\n\\ncolumn_names = soup.find_all(\"td\", class_=class_pattern)\\nfor element in column_names:\\n    finance_names.append(element.text)\\nfor idx, element in enumerate(finance_names):\\n    finance_names[idx] =  element.replace(\" \",\"_\")\\nprint(finance_names) '"
      ]
     },
     "execution_count": 3,
     "metadata": {},
     "output_type": "execute_result"
    }
   ],
   "source": [
    "\"\"\"\n",
    "This code was used, to extract the Table Headers, which i fill in here hardcoded, because its the same financial Names in every Stock\n",
    "finance_names = []\n",
    "\n",
    "#noticed only 50 of 60 headlines were found - 10 have other class name (for no reason) catched them with RegEX -- (\"td\", class_=\"Pos(st) Start(0) Bgc($lv2BgColor) fi-row:h_Bgc($hoverBgColor) Pend(10px)\")\n",
    "class_pattern = re.compile(r\"(^|\\s)Pos\\(st\\) Start\\(0\\) Bgc\\(\\$lv2BgColor\\) fi-row:h_Bgc\\(\\$hoverBgColor\\) Pend\\(10px\\)(\\s|$)\")\n",
    "\n",
    "column_names = soup.find_all(\"td\", class_=class_pattern)\n",
    "for element in column_names:\n",
    "    finance_names.append(element.text)\n",
    "for idx, element in enumerate(finance_names):\n",
    "    finance_names[idx] =  element.replace(\" \",\"_\")\n",
    "print(finance_names) \"\"\"\n",
    "\n",
    "\n",
    "\n"
   ]
  },
  {
   "cell_type": "code",
   "execution_count": 4,
   "id": "1e45140f-24e0-4801-803c-e6403e70adc1",
   "metadata": {},
   "outputs": [],
   "source": [
    "headers_column = ['Market_Cap_(intraday)_', 'Enterprise_Value_', 'Trailing_P/E_', 'Forward_P/E_', 'PEG_Ratio_(5_yr_expected)_', 'Price/Sales_(ttm)', \n",
    "                  'Price/Book_(mrq)', 'Enterprise_Value/Revenue_', 'Enterprise_Value/EBITDA_', 'Beta_(5Y_Monthly)_', '52-Week_Change_3', \n",
    "                  'S&P500_52-Week_Change_3', '52_Week_High_3', '52_Week_Low_3', '50-Day_Moving_Average_3', '200-Day_Moving_Average_3', 'Avg_Vol_(3_month)_3', \n",
    "                  'Avg_Vol_(10_day)_3', 'Shares_Outstanding_5', 'Implied_Shares_Outstanding_6', 'Float_8', '%_Held_by_Insiders_1', '%_Held_by_Institutions_1', \n",
    "                  'Shares_Short__4', 'Short_Ratio__4', 'Short_%_of_Float__4', 'Short_%_of_Shares_Outstanding__4', 'Shares_Short_(prior_month_)_4', \n",
    "                  'Forward_Annual_Dividend_Rate_4', 'Forward_Annual_Dividend_Yield_4', 'Trailing_Annual_Dividend_Rate_3', 'Trailing_Annual_Dividend_Yield_3', \n",
    "                  '5_Year_Average_Dividend_Yield_4', 'Payout_Ratio_4', 'Dividend_Date_3', 'Ex-Dividend_Date_4', 'Last_Split_Factor_2', 'Last_Split_Date_3', \n",
    "                  'Fiscal_Year_Ends_', 'Most_Recent_Quarter_(mrq)', 'Profit_Margin_', 'Operating_Margin_(ttm)', 'Return_on_Assets_(ttm)', 'Return_on_Equity_(ttm)', \n",
    "                  'Revenue_(ttm)', 'Revenue_Per_Share_(ttm)', 'Quarterly_Revenue_Growth_(yoy)', 'Gross_Profit_(ttm)', 'EBITDA_', 'Net_Income_Avi_to_Common_(ttm)', \n",
    "                  'Diluted_EPS_(ttm)', 'Quarterly_Earnings_Growth_(yoy)', 'Total_Cash_(mrq)', 'Total_Cash_Per_Share_(mrq)', 'Total_Debt_(mrq)', 'Total_Debt/Equity_(mrq)', \n",
    "                  'Current_Ratio_(mrq)', 'Book_Value_Per_Share_(mrq)', 'Operating_Cash_Flow_(ttm)', 'Levered_Free_Cash_Flow_(ttm)']\n",
    "\n",
    "data_list = []\n",
    "finance_numbers = []\n",
    "name_list = []\n",
    "link_list1 = []\n"
   ]
  },
  {
   "cell_type": "code",
   "execution_count": 5,
   "id": "59c00f3b-15e1-46f2-b711-9e77fc11f23b",
   "metadata": {},
   "outputs": [
    {
     "name": "stdout",
     "output_type": "stream",
     "text": [
      "Script Run Successfully!\n"
     ]
    }
   ],
   "source": [
    "for link in link_list:\n",
    "    r = requests.get(link, headers=headers_http)\n",
    "    if r.status_code == 200:\n",
    "        soup = BeautifulSoup(r.content, \"html.parser\")\n",
    "        \n",
    "        finanz_zahlen = soup.find_all(\"td\", class_=\"Fw(500) Ta(end) Pstart(10px) Miw(60px)\", string=True)\n",
    "        firmenname = soup.find_all(\"h1\", class_=\"D(ib) Fz(18px)\", string=True)\n",
    "        finance_numbers = []  # Initialize finance_numbers within the loop\n",
    "        \n",
    "\n",
    "        for element in finanz_zahlen:\n",
    "            finance_numbers.append(element.text)\n",
    "\n",
    "        for idx, element in enumerate(finance_numbers):\n",
    "            if element.endswith(\"M\"):\n",
    "                finance_numbers[idx] = float(element[:-1]) * 1e6\n",
    "            elif element.endswith(\"B\"):\n",
    "                finance_numbers[idx] = float(element[:-1]) * 1e9\n",
    "            elif element.endswith(\"k\"):\n",
    "                finance_numbers[idx] = float(element[:-1]) * 1e3\n",
    "            elif element.endswith(\"%\"):\n",
    "                finance_numbers[idx] = element\n",
    "\n",
    "        data_list.extend(finance_numbers)  # Append finance_numbers to data_list after processing\n",
    "        name_list.extend(firmenname)  # Append Company name to names list after processing\n",
    "\n",
    "    else:\n",
    "        print(\"Seems like there was an Error\")\n",
    "\n",
    "# Converting Finance Numbers into a Dataframe and Reshape them into 60 columns (this sorts them as well)\n",
    "data_array = np.array(data_list)\n",
    "data_array = data_array.reshape(len(link_list), 60)\n",
    "df_finance = pd.DataFrame(data_array, columns=headers_column)  \n",
    "\n",
    "# do the same for the Company name\n",
    "name_array = np.array(name_list)\n",
    "name_array = name_array.reshape(len(link_list), 1)\n",
    "df_names = pd.DataFrame(name_array, columns=[\"Company Name\"])\n",
    "\n",
    "# Get 1 Column for the Links, to look up further Data if Stock has good measurements\n",
    "\n",
    "df_links = pd.DataFrame(link_list, columns=[\"Link_Yahoo_Finance\"])\n",
    "\n",
    "# create final DF to write into Google Sheets later\n",
    "df_final = pd.concat([df_names,df_links, df_finance], axis=1)\n",
    "\n",
    "# just a quick test if whole list was successfully crawled\n",
    "print(\"Script Run Successfully!\")"
   ]
  },
  {
   "cell_type": "code",
   "execution_count": 6,
   "id": "cff73beb-2fe4-43fd-9600-ab5c138dc0e0",
   "metadata": {},
   "outputs": [
    {
     "data": {
      "text/plain": [
       "[]"
      ]
     },
     "execution_count": 6,
     "metadata": {},
     "output_type": "execute_result"
    }
   ],
   "source": [
    "\n",
    "link_list1"
   ]
  },
  {
   "cell_type": "code",
   "execution_count": 7,
   "id": "1f7cf520-c725-414a-b28c-446c0c914516",
   "metadata": {},
   "outputs": [
    {
     "data": {
      "text/html": [
       "<div>\n",
       "<style scoped>\n",
       "    .dataframe tbody tr th:only-of-type {\n",
       "        vertical-align: middle;\n",
       "    }\n",
       "\n",
       "    .dataframe tbody tr th {\n",
       "        vertical-align: top;\n",
       "    }\n",
       "\n",
       "    .dataframe thead th {\n",
       "        text-align: right;\n",
       "    }\n",
       "</style>\n",
       "<table border=\"1\" class=\"dataframe\">\n",
       "  <thead>\n",
       "    <tr style=\"text-align: right;\">\n",
       "      <th></th>\n",
       "      <th>Company Name</th>\n",
       "      <th>Link_Yahoo_Finance</th>\n",
       "      <th>Market_Cap_(intraday)_</th>\n",
       "      <th>Enterprise_Value_</th>\n",
       "      <th>Trailing_P/E_</th>\n",
       "      <th>Forward_P/E_</th>\n",
       "      <th>PEG_Ratio_(5_yr_expected)_</th>\n",
       "      <th>Price/Sales_(ttm)</th>\n",
       "      <th>Price/Book_(mrq)</th>\n",
       "      <th>Enterprise_Value/Revenue_</th>\n",
       "      <th>...</th>\n",
       "      <th>Diluted_EPS_(ttm)</th>\n",
       "      <th>Quarterly_Earnings_Growth_(yoy)</th>\n",
       "      <th>Total_Cash_(mrq)</th>\n",
       "      <th>Total_Cash_Per_Share_(mrq)</th>\n",
       "      <th>Total_Debt_(mrq)</th>\n",
       "      <th>Total_Debt/Equity_(mrq)</th>\n",
       "      <th>Current_Ratio_(mrq)</th>\n",
       "      <th>Book_Value_Per_Share_(mrq)</th>\n",
       "      <th>Operating_Cash_Flow_(ttm)</th>\n",
       "      <th>Levered_Free_Cash_Flow_(ttm)</th>\n",
       "    </tr>\n",
       "  </thead>\n",
       "  <tbody>\n",
       "    <tr>\n",
       "      <th>0</th>\n",
       "      <td>Hapag-Lloyd Aktiengesellschaft (HLAG.DE)</td>\n",
       "      <td>https://finance.yahoo.com/quote/HLAG.DE/key-st...</td>\n",
       "      <td>23870000000.0</td>\n",
       "      <td>20820000000.0</td>\n",
       "      <td>3.70</td>\n",
       "      <td>N/A</td>\n",
       "      <td>N/A</td>\n",
       "      <td>1.08</td>\n",
       "      <td>1.20</td>\n",
       "      <td>0.95</td>\n",
       "      <td>...</td>\n",
       "      <td>36.52</td>\n",
       "      <td>-95.00%</td>\n",
       "      <td>6360000000.0</td>\n",
       "      <td>36.17</td>\n",
       "      <td>5460000000.0</td>\n",
       "      <td>27.57%</td>\n",
       "      <td>1.82</td>\n",
       "      <td>112.41</td>\n",
       "      <td>9190000000.0</td>\n",
       "      <td>3970000000.0</td>\n",
       "    </tr>\n",
       "    <tr>\n",
       "      <th>1</th>\n",
       "      <td>Amadeus FiRe AG (AAD.DE)</td>\n",
       "      <td>https://finance.yahoo.com/quote/AAD.DE/key-sta...</td>\n",
       "      <td>594280000.0</td>\n",
       "      <td>643170000.0</td>\n",
       "      <td>14.76</td>\n",
       "      <td>N/A</td>\n",
       "      <td>N/A</td>\n",
       "      <td>1.44</td>\n",
       "      <td>4.22</td>\n",
       "      <td>1.49</td>\n",
       "      <td>...</td>\n",
       "      <td>7.41</td>\n",
       "      <td>6.20%</td>\n",
       "      <td>19570000.0</td>\n",
       "      <td>3.42</td>\n",
       "      <td>108330000.0</td>\n",
       "      <td>75.62%</td>\n",
       "      <td>0.61</td>\n",
       "      <td>24.63</td>\n",
       "      <td>90850000.0</td>\n",
       "      <td>77550000.0</td>\n",
       "    </tr>\n",
       "    <tr>\n",
       "      <th>2</th>\n",
       "      <td>ATOSS Software AG (AOF.F)</td>\n",
       "      <td>https://finance.yahoo.com/quote/AOF.F/key-stat...</td>\n",
       "      <td>1960000000.0</td>\n",
       "      <td>1920000000.0</td>\n",
       "      <td>68.75</td>\n",
       "      <td>N/A</td>\n",
       "      <td>N/A</td>\n",
       "      <td>14.08</td>\n",
       "      <td>45.25</td>\n",
       "      <td>14.35</td>\n",
       "      <td>...</td>\n",
       "      <td>3.43</td>\n",
       "      <td>57.60%</td>\n",
       "      <td>56090000.0</td>\n",
       "      <td>7.05</td>\n",
       "      <td>8660000.0</td>\n",
       "      <td>20.89%</td>\n",
       "      <td>N/A</td>\n",
       "      <td>5.23</td>\n",
       "      <td>N/A</td>\n",
       "      <td>N/A</td>\n",
       "    </tr>\n",
       "  </tbody>\n",
       "</table>\n",
       "<p>3 rows × 62 columns</p>\n",
       "</div>"
      ],
      "text/plain": [
       "                               Company Name  \\\n",
       "0  Hapag-Lloyd Aktiengesellschaft (HLAG.DE)   \n",
       "1                  Amadeus FiRe AG (AAD.DE)   \n",
       "2                 ATOSS Software AG (AOF.F)   \n",
       "\n",
       "                                  Link_Yahoo_Finance Market_Cap_(intraday)_  \\\n",
       "0  https://finance.yahoo.com/quote/HLAG.DE/key-st...          23870000000.0   \n",
       "1  https://finance.yahoo.com/quote/AAD.DE/key-sta...            594280000.0   \n",
       "2  https://finance.yahoo.com/quote/AOF.F/key-stat...           1960000000.0   \n",
       "\n",
       "  Enterprise_Value_ Trailing_P/E_ Forward_P/E_ PEG_Ratio_(5_yr_expected)_  \\\n",
       "0     20820000000.0          3.70          N/A                        N/A   \n",
       "1       643170000.0         14.76          N/A                        N/A   \n",
       "2      1920000000.0         68.75          N/A                        N/A   \n",
       "\n",
       "  Price/Sales_(ttm) Price/Book_(mrq) Enterprise_Value/Revenue_  ...  \\\n",
       "0              1.08             1.20                      0.95  ...   \n",
       "1              1.44             4.22                      1.49  ...   \n",
       "2             14.08            45.25                     14.35  ...   \n",
       "\n",
       "  Diluted_EPS_(ttm) Quarterly_Earnings_Growth_(yoy) Total_Cash_(mrq)  \\\n",
       "0             36.52                         -95.00%     6360000000.0   \n",
       "1              7.41                           6.20%       19570000.0   \n",
       "2              3.43                          57.60%       56090000.0   \n",
       "\n",
       "  Total_Cash_Per_Share_(mrq) Total_Debt_(mrq) Total_Debt/Equity_(mrq)  \\\n",
       "0                      36.17     5460000000.0                  27.57%   \n",
       "1                       3.42      108330000.0                  75.62%   \n",
       "2                       7.05        8660000.0                  20.89%   \n",
       "\n",
       "  Current_Ratio_(mrq) Book_Value_Per_Share_(mrq) Operating_Cash_Flow_(ttm)  \\\n",
       "0                1.82                     112.41              9190000000.0   \n",
       "1                0.61                      24.63                90850000.0   \n",
       "2                 N/A                       5.23                       N/A   \n",
       "\n",
       "  Levered_Free_Cash_Flow_(ttm)  \n",
       "0                 3970000000.0  \n",
       "1                   77550000.0  \n",
       "2                          N/A  \n",
       "\n",
       "[3 rows x 62 columns]"
      ]
     },
     "execution_count": 7,
     "metadata": {},
     "output_type": "execute_result"
    }
   ],
   "source": [
    "df_final.head()"
   ]
  },
  {
   "cell_type": "code",
   "execution_count": 8,
   "id": "94f01aa1",
   "metadata": {},
   "outputs": [
    {
     "data": {
      "text/plain": [
       "{'spreadsheetId': '19yWEwyOEKP_sS_w2laKwD7uIcrST97LpABUaXEw8tQQ',\n",
       " 'updatedRange': 'Sheet1!A1:BJ4',\n",
       " 'updatedRows': 4,\n",
       " 'updatedColumns': 62,\n",
       " 'updatedCells': 248}"
      ]
     },
     "execution_count": 8,
     "metadata": {},
     "output_type": "execute_result"
    }
   ],
   "source": [
    "# Define the scope\n",
    "scope = ['https://www.googleapis.com/auth/drive', 'https://www.googleapis.com/auth/spreadsheets']\n",
    "path = \"evident-catcher-416200-7712669a9428.json\"\n",
    "# Authenticate using credentials\n",
    "credentials = ServiceAccountCredentials.from_json_keyfile_name(path, scope)\n",
    "client = gspread.authorize(credentials)\n",
    "\n",
    "# Open the Google Sheet (replace 'MySheet' with your sheet name)\n",
    "sheet = client.open('SDAX_Data_Dump').sheet1\n",
    "\n",
    "\n",
    "# Write DataFrame to Google Sheet\n",
    "# First, clear the existing contents of the sheet\n",
    "sheet.clear()\n",
    "# Then, write the DataFrame to the sheet\n",
    "sheet.update([df_final.columns.values.tolist()] + df_final.values.tolist())"
   ]
  },
  {
   "cell_type": "code",
   "execution_count": null,
   "id": "646cffee",
   "metadata": {},
   "outputs": [],
   "source": []
  }
 ],
 "metadata": {
  "kernelspec": {
   "display_name": "Python 3",
   "language": "python",
   "name": "python3"
  },
  "language_info": {
   "codemirror_mode": {
    "name": "ipython",
    "version": 3
   },
   "file_extension": ".py",
   "mimetype": "text/x-python",
   "name": "python",
   "nbconvert_exporter": "python",
   "pygments_lexer": "ipython3",
   "version": "3.9.1"
  }
 },
 "nbformat": 4,
 "nbformat_minor": 5
}
